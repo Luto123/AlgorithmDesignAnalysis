{
 "cells": [
  {
   "cell_type": "markdown",
   "metadata": {},
   "source": [
    "## algorithm design and anlysis-2025 spring  homework 2\n",
    "**Deadline**：2025.5.14\n",
    "\n",
    "**name**:\n",
    "\n",
    "\n",
    "note：\n",
    "---\n",
    "1. 带有\\*的题目，申请免上课的同学，必须完成，其他同学选作；\n",
    "2. 请独立完成，如求助了他人或者大模型，请著明，并且不可省略算法分析部分；\n",
    "4. 如若作答有雷同，全部取消成绩；\n",
    "3. 需要书面作答的题目，可以通过引用图片的形式添加，但是注意上传项目时包含所引用的图片的源文件；\n",
    "4. $log_n$ 默认表示$log_2{n}$;"
   ]
  },
  {
   "cell_type": "markdown",
   "metadata": {},
   "source": [
    "## 问题 1  \n",
    "\n",
    "> 给定一个已排序的链表的头 `head` ， *删除所有重复的元素，使每个元素只出现一次* 。返回 *已排序的链表* 。链表的类如下所示：\n",
    "\n",
    "```python\n",
    "class NodeList:\n",
    "    def __init__(self, val=None, right=None):\n",
    "        self.val   = val\n",
    "        self.right = right\n",
    "```\n",
    "\n",
    "输入是一个数组，你首先需要将数组转化为链表，然后删除链表中的重复元素，再遍历链表元素，以一个数组的形式返回。请设计一个算法解决上述任务，分析算法设计思路，计算时间复杂度, 并基于python编程实现。\n",
    "\n",
    "e.g.  输入：head=[1, 1, 2, 3, 3]   输出：[1, 2, 3]\n",
    "\n",
    "![image-20240502110020439](./fig/hw2q1.png)\n",
    "\n"
   ]
  },
  {
   "cell_type": "markdown",
   "metadata": {},
   "source": [
    "idea：\n",
    "**我的Idea：**\n",
    "\n",
    "***算法思路：***\n",
    "\n",
    "***第一步，将数组转为链表的思路：*** *首先创建两个NodeList的None变量，一个作为重要的表头，一个作为迭代变量，循环中遍历数组中的每个元素，首先判断如果表头为空None，则说明此时是正在插入链表的第一个元素，那么为表头新创建一个节点，并以当前迭代的数组的值为其赋值，之后让迭代变量等于头节点；如果此时头节点不为空，则说明不是空链表，那么直接为迭代变量的right创建新的节点并为其赋值，之后使迭代变量指向其right，重复此过程，遍历数组元素后则创建好的带头节点的链表。*\n",
    "\n",
    "***第二步，删除链表中的重复元素：*** *由于整体操作是对单链表的区域删除操作，则创建左右双指针的方式实现。首先初始化左右指针均指向头节点，进入循环，直到右指针指向为空时结束。循环中，右指针先向前一步，此时，如果左右指针的值相等，那么右指针此时所在位置是需要被删除的，先不处理，继续循环，直到右指针找到一个与左指针值不相等的节点，此时从左指针开始到右指针的上一节点的值都是一样的，那么直接将左指针的下一节点指向当前右指针，等价于删除了与左指针值相等的节点，此时链表中与左指针相等的值已经被去重了，让左指针指向右指针，继续循环处理下一重复元素。以上描述中，需要在一开始判断右指针是否为最后一个节点，否则若恰为最后一个节点，再向前一步并访问其值会出错。如果右指针恰好为最后一个节点，那么说明从当前从左指针到右指针都是同一个元素，且左指针是相同值得第一个节点，那么直接将左节点的下一节点置为None，并直接结束循环。处理完成后即得到了带头节点的不重复链表。这部分算法的删除重复元素的方法，只适合如题目所要求的已经排序的数组情况下。*\n",
    "\n",
    "***第三步，将链表元素依次转为数组：*** *直接使用迭代变量从头节点开始依次将迭代变量的值插入到结果的数组中，并将迭代变量指向其下一节点，直到迭代变量为空。*\n",
    "\n",
    "***时间复杂度分析：*** *对时间复杂度的分析分为三个部分，第一步将n个元素的数组转为链表的过程由一个循环对每个元素创建新的节点，因此总的时间复杂度为$O(n)$。第二步删除链表中的重复元素，使用两个指针对链表进行遍历，实际由右指针在循环中遍历了每个节点，时间复杂度为$O(n)$。最后将删除重复元素后的链表转为数组，也是一个循环遍历的过程，假设不重复的元素有k个，则时间复杂度为$O(k)$.则总的时间复杂度$O(n+n+k)$，等价于$O(n)$。*"
   ]
  },
  {
   "cell_type": "code",
   "execution_count": 1,
   "metadata": {},
   "outputs": [
    {
     "name": "stdout",
     "output_type": "stream",
     "text": [
      "[1, 2, 3]\n"
     ]
    }
   ],
   "source": [
    "# add your idea here\n",
    "class NodeList:\n",
    "    def __init__(self, val=None, right=None):\n",
    "        self.val = val\n",
    "        self.right = right\n",
    "\n",
    "\n",
    "def DeleteRepeatELem(head):\n",
    "    \"\"\"删除重复元素\"\"\"\n",
    "    # 首先将数组转为链表\n",
    "    h = None  # 链表的头\n",
    "    node = None  # 迭代变量\n",
    "    for num in head:\n",
    "        # 循环插入链表\n",
    "        if h is None:  # 如果还是空链表\n",
    "            h = NodeList(num)\n",
    "            node = h\n",
    "            continue\n",
    "        # 不为空链表，接着node向后装\n",
    "        node.right = NodeList(num)\n",
    "        node = node.right\n",
    "\n",
    "    # 删除链表中的重复元素\n",
    "    # 创建双指针\n",
    "    left_node = h\n",
    "    right_node = h\n",
    "    # 循环到右指针为空\n",
    "    while not (right_node is None):\n",
    "        # 如果右指针的下一节点为空，则说明从当前左指针到右指针都是相同元素，且右指针为链表的最后一个元素，那么直接将左指针的right置空，同时循环结束\n",
    "        if right_node.right is None:\n",
    "            left_node.right = None\n",
    "            break\n",
    "        # 右指针向前一步\n",
    "        right_node = right_node.right\n",
    "        # 如果左指针和右指针的值不一样，则直接将左指针的right置为现在的右指针，因为从左指针到右指针的上个节点值都是同一个值\n",
    "        if left_node.val != right_node.val:\n",
    "            left_node.right = right_node\n",
    "            # 修改左指针的指向\n",
    "            left_node = right_node\n",
    "\n",
    "    # 再遍历链表元素，以数组形式返回\n",
    "    iter_node = h\n",
    "    result = []\n",
    "    while not (iter_node is None):\n",
    "        result.append(iter_node.val)\n",
    "        iter_node = iter_node.right\n",
    "    return result\n",
    "\n",
    "\n",
    "if __name__ == '__main__':\n",
    "    arr = [1, 1, 2, 3, 3]\n",
    "    print(DeleteRepeatELem(arr))\n",
    "\n",
    "# your algorithm time complexity is: $ O(n) $"
   ]
  },
  {
   "cell_type": "markdown",
   "metadata": {},
   "source": [
    "## 问题 2  \n",
    "\n",
    "> 下面是一个经典的算法问题：\n",
    ">\n",
    "> - 给定包含n个整数的一个整数数组 `nums` 和一个整数目标值 `target`，请你在该数组中找出 **和为目标值** *`target`* 的那 **两个** 整数，并返回它们的**数组下标**。假设每种输入只会对应一个答案。但是，数组中同一个元素在答案里不能重复出现。你可以按任意顺序返回答案。\n",
    ">\n",
    "> 由于要多次查找数组中元素的位置，为了提高查询效率可以使用哈希表来存储数组中的数据，在哈希表中查询一个元素的复杂度为O(1)。 已知python中的字典是使用哈希表实现的，即使用`dict[key]`查询对应的value时间复杂度为O(1), python提供了查询字典是否包含某个key的功能：`key in dict`，时间复杂度也是O(1)\n",
    "\n",
    "请根据上面信息，设计一个时间复杂度为O(n) 的算法，解决上述算法问题\n",
    "\n",
    "e.g.   \n",
    "\n",
    "输入：nums=[2,7,11,15], target=9， 输出：[0，1]\n",
    "\n",
    "输入：nums=[3,2,4], target=6, 输出：[1,2]\n",
    "\n",
    "输入：nums=[3,3], target=6,  输出：[0,1]\n"
   ]
  },
  {
   "cell_type": "markdown",
   "metadata": {},
   "source": [
    "idea:\n",
    "\n",
    "**我的Idea：**\n",
    "\n",
    "***算法思路：*** *由题目中给出哈希表的思路，要求时间复杂度为$O(n)$，且哈希表的查询功能的时间复杂度为$O(1)$，则想到只需要通过一次遍历实现，并满足时间复杂度为$O(n)$的要求。首先创建一个字典作为哈希表，遍历这个数组，对于当前遍历的值及其索引，首先得到目标值与当前遍历的值的差，然后查找这个差是否是哈希表的键，如果是，则直接返回以这个差为键的对应的值；如果哈希表中没有这个键，则以差值为键、当前遍历索引为值插入到字典中。如果遍历结束所有的元素任然没有返回，则序列中没有满足要求的两个值，返回空数组。*\n",
    "\n",
    "***时间复杂度分析：*** *思路中的hash表查找的时间复杂度为$O(1)$，主要时间复杂度来源为遍历数组的过程，其时间复杂度为$O(n)$，因此总的时间复杂度也为$O(n)$。*"
   ]
  },
  {
   "cell_type": "code",
   "execution_count": 2,
   "metadata": {},
   "outputs": [
    {
     "name": "stdout",
     "output_type": "stream",
     "text": [
      "[0, 1]\n",
      "[1, 2]\n",
      "[0, 1]\n"
     ]
    }
   ],
   "source": [
    "# add your idea here\n",
    "def getTwoAddendBySum(arr, target):\n",
    "    hashmap = {}  # 字典 哈希表\n",
    "    for i in range(len(arr)):\n",
    "        # 求差值\n",
    "        diff = target - arr[i]\n",
    "        if diff in hashmap:\n",
    "            return [hashmap[diff], i]\n",
    "        hashmap[arr[i]] = i\n",
    "    return []\n",
    "\n",
    "\n",
    "if __name__ == '__main__':\n",
    "    print(getTwoAddendBySum([2, 7, 11, 15], 9))\n",
    "    print(getTwoAddendBySum([3, 2, 4], 6))\n",
    "    print(getTwoAddendBySum([3, 3], 6))\n",
    "# your algorithm time complexity is: O(n)"
   ]
  },
  {
   "cell_type": "markdown",
   "metadata": {},
   "source": [
    "## 问题 3:   \n",
    "\n",
    "> 栈是一种常用的数据结构，编译器中通常使用栈来实现表达式求值。\n",
    ">\n",
    "> 以表达式 $3+5 \\times 8-6$​ 为例。编译器使用两个栈来完成运算，即一个栈保持操作数，另一个栈保存运算符。\n",
    ">\n",
    "> 1. 从左向右遍历表达式，遇到数字就压入操作数栈；\n",
    ">\n",
    "> 2. 遇到运算符，就与运算符栈的栈顶元素进行比较。如果比运算符栈顶元素的优先级高，就将当前运算符压入栈；如果比运算符栈顶元素的优先级低或者相同，从运算符栈中取栈顶运算符，从操作数栈的栈顶取 2 个操作数，然后进行计算，再把计算完的结果压入操作数栈，继续比较。\n",
    ">\n",
    "> 下图是 $3+5 \\times 8-6$  这个表达式的计算过程：\n",
    "\n",
    "![figure](./fig/hw2q3.png)\n",
    "\n",
    "根据上述原理，请设计一个算法完成表达式的运算，当输入为表达式字符串，返回对应的计算结果。分析算法设计思路，计算时间复杂度，并基于python编程实现\n",
    "\n",
    "**note：**\n",
    "\n",
    "1. 假设输入的表达式只会出现加（“+”），减 “-”， 乘“*”，除 “/” 四个运算符, 表达式中只会出现正整数\n",
    "2. python中` str.isdigit()`函数可以判断字符串str是否为数字，\n",
    "\n",
    "\n",
    "\n",
    "e.g. :\n",
    "---\n",
    "\n",
    "1. 输入：“$3+5 * 8 -6$”   输出：37\n",
    "\n",
    "2. 输入：“$34+13*9 + 44-12/3$”  输出：191"
   ]
  },
  {
   "cell_type": "markdown",
   "metadata": {},
   "source": [
    "idea：\n",
    "\n",
    "***算法思路：*** *首先根据基本四则运算的优先级使用字典形式为四个运算符的优先级进行赋值，加减优先级为1，乘除优先级为2。按照题意创建操作数栈和运算符栈，再循环遍历表达式中的每一个字符，如果当前字符为数字，则认为其可能是一个多位数，按照十进制计数规则，向后循环遍历多个字符，直到下一个字符不为数字，最终得到这个多位数。如果当前字符为操作符，则判断其优先级是否比栈顶元素大，如果是，则连续出栈两个元素，并按照运算符栈的操作符进行计算，并将计算结果压入操作数栈。遍历结束后，再循环出栈，计算结果，将结果入栈，直到操作符栈为空，最后留在数据栈的元素即为运算结果。*\n",
    "\n",
    "***时间复杂度分析：*** *整个过程中，遍历整个表达式总共$O(n)$的时间复杂度，每个操作符进栈出栈依次，时间复杂度也为$O(n)$，所以总的时间复杂度还是$O(n)$。*"
   ]
  },
  {
   "cell_type": "code",
   "execution_count": 3,
   "metadata": {},
   "outputs": [
    {
     "name": "stdout",
     "output_type": "stream",
     "text": [
      "37\n",
      "191.0\n"
     ]
    }
   ],
   "source": [
    "# add your idea here\n",
    "def apply_op(a, b, op):\n",
    "    \"\"\"处理一般计算\"\"\"\n",
    "    if op == '+':\n",
    "        return a + b\n",
    "    elif op == '-':\n",
    "        return a - b\n",
    "    elif op == '*':\n",
    "        return a * b\n",
    "    elif op == '/':\n",
    "        return a / b\n",
    "\n",
    "\n",
    "def getResult(expression):\n",
    "    \"\"\"表达式求职\"\"\"\n",
    "    # 去除空格\n",
    "    expression = expression.replace(\" \", \"\")\n",
    "    # 运算符优先级字典\n",
    "    priority = {'+': 1, '-': 1, '*': 2, '/': 2}\n",
    "    nums = []  # 操作数栈\n",
    "    ops = []  # 运算符栈\n",
    "    i = 0\n",
    "    while i < len(expression):\n",
    "        if expression[i].isdigit():\n",
    "            num = 0\n",
    "            # 使用while加十进制计数的方式计算得到多位数\n",
    "            while i < len(expression) and expression[i].isdigit():\n",
    "                num = num * 10 + int(expression[i])\n",
    "                i += 1\n",
    "            nums.append(num)\n",
    "        else:\n",
    "            # 先处理优先级比较高的运算符，最后处理比较低的\n",
    "            while len(ops) > 0 and priority[ops[-1]] >= priority[expression[i]]:\n",
    "                b = nums.pop()\n",
    "                a = nums.pop()\n",
    "                op = ops.pop()\n",
    "                nums.append(apply_op(a, b, op))\n",
    "            ops.append(expression[i])\n",
    "            i += 1\n",
    "    # 处理运算符优先级较低的运算符\n",
    "    while len(ops) > 0:\n",
    "        b = nums.pop()\n",
    "        a = nums.pop()\n",
    "        op = ops.pop()\n",
    "        nums.append(apply_op(a, b, op))\n",
    "    # 操作数栈的最后留下的即为运算结果\n",
    "    return nums[0]\n",
    "\n",
    "\n",
    "if __name__ == '__main__':\n",
    "    print(getResult(\"3+5*8-6\"))\n",
    "    print(getResult(\"34+13*9+44-12/3\"))\n",
    "\n",
    "\n",
    "# your algorithm time complexity is: $ O(n) $"
   ]
  },
  {
   "cell_type": "markdown",
   "metadata": {},
   "source": [
    "## 问题 4:  \n",
    "\n",
    "> 星球碰撞问题：现有n个星球，在同一条直线上运行，如数组A所示，元素的绝对值表示星球的质量，负数表示星球自右向左运动，正数表示星球自左向右运动，当两个星球相撞的时候，质量小的会消失，大的保持不变，**质量相同的两个星球碰撞后自右向左运动的星球消失，自左向右的星球保持不变**，假设所有星球的速度大小相同。\n",
    ">\n",
    "> $ A=[23,-8, 9, -3, -7, 9, -23, 22] $\n",
    "\n",
    "请设计一个算法模拟星球的运行情况，输出最终的星球存续情况（输出一个数组），分析算法设计思路，计算时间复杂度，并基于python编程实现。\n",
    "\n",
    "e.g.\n",
    "---\n",
    "1.  输入： A=[-3,-6,2,8, 5,-8,9,-2,1]， 输出：[-3, -6, 2, 8, 9, 1]\n",
    "\n",
    "2. 输入：A=[23,-8, 9, -3, -7, 9, -23, 22], 输出：[23, 22]\n",
    "\n"
   ]
  },
  {
   "cell_type": "markdown",
   "metadata": {},
   "source": [
    "idea:\n",
    "\n",
    "***算法思路：*** *通过前面几道题的提示，首先考虑到使用栈进行实现。首先创建一个存活栈，用来记录当前迭代为止，能存活的星球。按照数组顺序依次遍历所有的星球：如果栈为空，表明空间中暂时无其他星球，第一个星球可直接入栈表示现在能存活。如果栈不为空，则表示有其他星球，则需要判断是否会发生碰撞。首先判断当前星球与栈顶星球的运动方向是否一致，如果一致则不会发生碰撞，直接入栈。如果运动方向相反，则再分两种情况，如果栈顶星球向左，新的星球向右，此时不会发生碰撞，则直接将新的星球入栈。相反的则一定会发生碰撞，此时再将栈顶星球与新的星球做质量对比，碰撞后如果新的星球存活，则将栈顶星球出栈，并将新的星球与新的栈顶星球再次作比较，重复，直到新的星球淘汰或能在栈中星球存活；而如果碰撞后栈顶星球存活，则不对栈做处理，继续下一次迭代，判断新的星球是否能存活，直到所有的星球被遍历完成，此时栈中元素即为能够存活下来的星球。*\n",
    "\n",
    "***时间复杂度分析：*** *假设星球总数量为n，由于每个星球最多入栈一次，最多出栈一次，总的操作不会超过2n次，因此时间复杂度为$O(n)$。*"
   ]
  },
  {
   "cell_type": "code",
   "execution_count": 9,
   "metadata": {},
   "outputs": [
    {
     "name": "stdout",
     "output_type": "stream",
     "text": [
      "[-3, -6, 2, 8, 9, 1]\n",
      "[23, 22]\n"
     ]
    }
   ],
   "source": [
    "# add your idea here\n",
    "def StarCollisionAlive(stars):\n",
    "    \"\"\"星球碰撞问题，得到剩余存活星球\"\"\"\n",
    "    # 简易实现栈\n",
    "    stack = []\n",
    "    index = -1\n",
    "    i = 0 # 用i遍历每个星球\n",
    "    while 0 <= i < len(stars):\n",
    "        if index < 0:\n",
    "            stack.append(stars[i])\n",
    "            index += 1\n",
    "            i += 1\n",
    "            continue\n",
    "        if stars[i] * stack[index] > 0:\n",
    "            # 同方向运行，设置为同时存活\n",
    "            stack.append(stars[i])\n",
    "            index += 1\n",
    "            i += 1\n",
    "        else:\n",
    "            # 反方向运行，进一步判断是否会碰撞\n",
    "            if stars[i] > 0:\n",
    "                # 新进来的星球向右，则栈顶星球向左，不会碰撞\n",
    "                stack.append(stars[i])\n",
    "                index += 1\n",
    "                i += 1\n",
    "            else:\n",
    "                # 新进来的向左，则栈顶星球向右，会碰撞\n",
    "                if abs(stack[index]) < abs(stars[i]):\n",
    "                    # 碰撞后新进来的星球存活\n",
    "                    stack.pop()\n",
    "                    index -= 1\n",
    "                else:\n",
    "                    # 碰撞后后进来的星球存活，质量如果相等，也等价于直接跳过了这个星期\n",
    "                    i += 1\n",
    "\n",
    "    return stack\n",
    "\n",
    "\n",
    "if __name__ == '__main__':\n",
    "    print(StarCollisionAlive([-3, -6, 2, 8, 5, -8, 9, -2, 1]))\n",
    "    print(StarCollisionAlive([23, -8, 9, -3, -7, 9, -23, 22]))\n",
    "# your algorithm time complexity is: $ O(n) $"
   ]
  },
  {
   "cell_type": "markdown",
   "metadata": {},
   "source": [
    "## 问题 5 \n",
    "\n",
    "> 给定一个无序数组nums=[9,-3,-10,0,9,7,33]，请建立一个二叉搜索树存储数组中的所有元素，之后删除二叉树中的元素“0”，再使用中序遍历输出二叉搜索树中的所有元素。\n",
    "\n",
    "使用python编程完成上述任务，并计算时间复杂度\n"
   ]
  },
  {
   "cell_type": "markdown",
   "metadata": {},
   "source": [
    "***时间复杂度分析：*** *假设n为树中结点的数量，那么每次插入操作部分的平均时间复杂度为$O(\\log n)$，总共有n个数，则总的时间复杂度为$O(n \\log n)$。删除部分，二叉搜索树的删除操作的时间复杂度为$O(log n)$，代码实现中只进行一次删除操作，则时间负载度为$O(\\log n)$。中序遍历将树中的每个节点都访问一次，则时间复杂度为$O(n)$。由此整个过程的时间复杂度为最高的插入部分的时间复杂度$O(n \\log n)$。*"
   ]
  },
  {
   "cell_type": "code",
   "execution_count": 4,
   "metadata": {},
   "outputs": [
    {
     "name": "stdout",
     "output_type": "stream",
     "text": [
      "删除‘0’后的中序遍历：-10, -3, 7, 9, 9, 33, "
     ]
    }
   ],
   "source": [
    "# add your idea here\n",
    "class TreeNode:\n",
    "    \"\"\"二叉树节点类\"\"\"\n",
    "\n",
    "    def __init__(self, value, left=None, right=None):\n",
    "        self.value = value\n",
    "        self.left = left\n",
    "        self.right = right\n",
    "\n",
    "\n",
    "class BinarySearchTree:\n",
    "    \"\"\"二叉搜索树类\"\"\"\n",
    "\n",
    "    def __init__(self):\n",
    "        self.root = None\n",
    "\n",
    "    def insertOneNode(self, node, value):\n",
    "        \"\"\"递归插入一个节点\"\"\"\n",
    "        if value < node.value:\n",
    "            # 应该在当前节点的左侧\n",
    "            if node.left is None:\n",
    "                # 左侧节点为空，则直接插入其左侧节点\n",
    "                node.left = TreeNode(value)\n",
    "            else:\n",
    "                # 左侧节点不为空，则递归向左节点的位置讨论插入\n",
    "                self.insertOneNode(node.left, value)\n",
    "        else:\n",
    "            if node.right is None:\n",
    "                # 应该在当前节点的右侧\n",
    "                node.right = TreeNode(value)\n",
    "            else:\n",
    "                # 右侧节点不为空，则递归向右节点的位置讨论插入\n",
    "                self.insertOneNode(node.right, value)\n",
    "\n",
    "    def insert(self, value):\n",
    "        \"\"\"向外部暴露的插入节点接口\"\"\"\n",
    "        if self.root is None:\n",
    "            self.root = TreeNode(value)\n",
    "        else:\n",
    "            self.insertOneNode(self.root, value)\n",
    "\n",
    "    def removeOneNode(self, node, value):\n",
    "        \"\"\"递归删除一个节点\"\"\"\n",
    "        if node is None:\n",
    "            # 如果节点已经为空，要要么没有这个元素，要么树是空的\n",
    "            return node\n",
    "        if value < node.value:\n",
    "            # 要删除的节点比当前节点值小，若树有这个节点，则出现在当前节点左边\n",
    "            node.left = self.removeOneNode(node.left, value)\n",
    "        elif value > node.value:\n",
    "            # 要删除的节点比当前节点值大，若树有这个节点，则出现在当前节点右边\n",
    "            node.right = self.removeOneNode(node.right, value)\n",
    "        else:\n",
    "            # 就是删除当前节点\n",
    "            # 若当前节点没有子节点或只有一个子节点\n",
    "            if node.left is None:\n",
    "                return node.right\n",
    "            elif node.right is None:\n",
    "                return node.left\n",
    "            else:\n",
    "                # 当前节点有两个子节点，先找到右子树中最小的节点\n",
    "                temp = node.right\n",
    "                while not (temp.left is None):\n",
    "                    # 覆盖\n",
    "                    temp = temp.left\n",
    "                node.value = temp.value\n",
    "                # 删除被替换的节点\n",
    "                node.right = self.removeOneNode(node.right, temp.value)\n",
    "        return node\n",
    "\n",
    "    def remove(self, value):\n",
    "        \"\"\"向外部暴露的删除节点接口\"\"\"\n",
    "        self.root = self.removeOneNode(self.root, value)\n",
    "\n",
    "    def inOrderDisplayBST(self, node):\n",
    "        \"\"\"中序遍历\"\"\"\n",
    "        if not (node is None):\n",
    "            self.inOrderDisplayBST(node.left)\n",
    "            print(node.value, end=', ')\n",
    "            self.inOrderDisplayBST(node.right)\n",
    "\n",
    "    def inOrderDisplay(self):\n",
    "        \"\"\"向外暴露的中序遍历\"\"\"\n",
    "        self.inOrderDisplayBST(self.root)\n",
    "\n",
    "\n",
    "if __name__ == '__main__':\n",
    "    nums = [9, -3, -10, 0, 9, 7, 33]\n",
    "    # 1. 建立一个二叉搜索树存储数组中的所有元素\n",
    "    BST = BinarySearchTree()\n",
    "    for num in nums:\n",
    "        BST.insert(num)\n",
    "\n",
    "    # 2. 删除二叉树中的元素0\n",
    "    BST.remove(0)\n",
    "\n",
    "    # 3. 中序遍历之后的树\n",
    "    print('删除‘0’后的中序遍历：',end='')\n",
    "    BST.inOrderDisplay()\n",
    "\n",
    "# your algorithm time complexity is:$ O(n \\log n) $"
   ]
  },
  {
   "cell_type": "markdown",
   "metadata": {},
   "source": [
    "## 问题 6  \n",
    "\n",
    "> 给定一个包含大写字母和小写字母的字符串 s ，返回 字符串包含的 **最长的回文子串的长度** 。请注意 区分大小写 。比如 \"Aa\" 不能当做一个回文字符串。\n",
    ">\n",
    "\n",
    "请设计一个算法解决上述问题，只需要输出最长回文子串的长度，分析算法设计思路，计算时间复杂度，并基于python编程实现\n",
    "\n",
    "e.g. 输入： s=\"adccaccd\"，  输出：7。 最长回文子串为：\"dccaccd\", 长度为7\n"
   ]
  },
  {
   "cell_type": "markdown",
   "metadata": {},
   "source": [
    "idea：\n",
    "\n",
    "***算法思路：*** *问题中没有对时间和空间的限制，这里直接使用暴力方法进行求解。设置双指针，两层循环方式逐步向内靠近。固定左指针，右指针逐渐向左指针靠近，每靠近一步则判断两个指针为左边边界的中间字符串是否为回文，如果是，则直接返回子字符串的长度，否则右指针向左移动一位，并继续判断。如果左右指针相邻了，则重置左指针右移一位，重置右指针到字符串末尾，重复上述过程，直到找到一个回文串并返回其长度。如果过程中一直没有找到合适的回文字符串，则根据字符串长度返回特定的值：字符串为空，不存在回文，返回0；字符串不为空，则任意单个字符均可看做回文，长度为1。*\n",
    "\n",
    "***时间复杂度分析：*** *以上描述中，使用双指针的方式取得待判断是否为回文的子字符串，嵌套了两层循环，外层循环执行n-1次，内层循环每次执行n-i-1次，因此整个时间复杂度为$O(n^2)$，但对子字符串判断是否为回文的过程使用的另外的双指针，逐渐向中间靠拢的方式，时间复杂度为$O(n)$，由此得到整体的时间复杂度为$O(n^3)$。*\n"
   ]
  },
  {
   "cell_type": "code",
   "execution_count": 7,
   "metadata": {},
   "outputs": [
    {
     "name": "stdout",
     "output_type": "stream",
     "text": [
      "7\n"
     ]
    }
   ],
   "source": [
    "# add your idea here\n",
    "def isPalindrome(str):\n",
    "    \"\"\"判断字符串str是否为回文\"\"\"\n",
    "    i, j = 0, len(str) - 1\n",
    "    while i < j:\n",
    "        if str[i] != str[j]:\n",
    "            return False\n",
    "        i += 1\n",
    "        j -= 1\n",
    "    return True\n",
    "\n",
    "\n",
    "def MaxLengthPalindrome(str):\n",
    "    \"\"\"求解函数\"\"\"\n",
    "    for i in range(0, len(str) - 1):\n",
    "        for j in range(len(str) - 1, i, -1):\n",
    "            if isPalindrome(str[i:(j + 1)]):\n",
    "                return j - i + 1\n",
    "    return 1 if len(str) > 0 else 0\n",
    "\n",
    "\n",
    "if __name__ == '__main__':\n",
    "    print(MaxLengthPalindrome('adccaccd'))\n",
    "\n",
    "# your algorithm time complexity is: $ O(n^3) $\n"
   ]
  },
  {
   "cell_type": "markdown",
   "metadata": {},
   "source": [
    "## 问题 7 \n",
    "\n",
    "> 沿一条长河流分散着n座房子。你可以把这条河想象成一条轴，房子是由它们在这条轴上的坐标按顺序排列的。你的公司想在河边的特定地点设置手机基站，这样每户人家都在距离基站4公里的范围内。输入可以看作为一个升序数组，数组元素的取值为大于等于0的正整数，你需要输出最小基站的数目，基站的位置。\n",
    "\n",
    "1. 给出一个时间复杂度为$O(n$) 的算法，使所使用的基站数量最小化，分析算法设计思路，使用python编程实现\n",
    "2. 证明1.中算法产生了最优解决方案。\n",
    "\n",
    "e.g. \n",
    "\n",
    "输入： [1, 5, 12, 33, 34,35]  输出：基站数目为3， 基站位置为[1，12，33]\n",
    "\n"
   ]
  },
  {
   "cell_type": "markdown",
   "metadata": {},
   "source": [
    "idea：\n",
    "**问题1的Idea：**\n",
    "\n",
    "***算法分析：*** *要求了时间复杂度为O(n)，那么只能是通过对所有房子或所有可能位置的一次遍历过程，逐位置的确定最合适的基站位置。由于每个基站的覆盖范围为向左4公里和向右四公里，总距离为8公里，因此先从左往右选定一个房子，向右找到下一个距离它超过四公里的房子，即这个房子不在选定的房子位置安装的基站的覆盖范围内，而在其之前的房子都能在这个房子的前一个房子的位置安装基站的覆盖范围内。因此将距离超过4公里的第一个房子的上一个房子的位置安装基站。并以这个距离超过四公里的第一个房子当作序列开始的新的原问题，重复上面的过程。*\n",
    "\n",
    "***时间复杂度分析：*** *由于只是对所有房子进行了一个遍历过程且没有回退步骤，则整体的时间复杂度为$O(n)$。*\n",
    "\n",
    "**问题2的证明最优解：**\n",
    "\n",
    "*以上算法描述可以看作一个基于贪心策略的算法思路，每次都选择到靠右而覆盖右边更多房子的位置，可认为是当前步骤阶段性局部最优解。并且思路中前面几个房子确定好了最优解后，对剩下的房子继续保持相同的策略，继而得到的解继续保持为全局最优，因此每一步所选的基站位置满足最优子结构性质，得到的解可认为是最优解决方案。*"
   ]
  },
  {
   "cell_type": "code",
   "execution_count": 9,
   "metadata": {},
   "outputs": [
    {
     "name": "stdout",
     "output_type": "stream",
     "text": [
      "基站数目为: 3 , 基站位置为: [5, 12, 35]\n"
     ]
    }
   ],
   "source": [
    "# add your idea here\n",
    "def BaseStationPlacement(houseLoc):\n",
    "    num_houses = len(houseLoc)  #房子总数\n",
    "    i = 0 # 对每个房子的迭代变量\n",
    "    result_position = [] # 最终基站放置位置\n",
    "    while i < num_houses:\n",
    "        # 找到下一个四公里内不被覆盖的房子位置\n",
    "        j = i\n",
    "        while j < num_houses and houseLoc[j] <= houseLoc[i] + 4:\n",
    "            j += 1\n",
    "        result_position.append(houseLoc[j - 1]) # 在houseLoc[j - 1]位置放置基站，保证了这个位置已经被覆盖\n",
    "        # 移动到刚刚放置的基站的覆盖范围外的第一个房子\n",
    "        while i < num_houses and houseLoc[i] <= houseLoc[j - 1] + 4:\n",
    "            i += 1\n",
    "    return len(result_position), result_position\n",
    "\n",
    "\n",
    "if __name__ == '__main__':\n",
    "    houses = [1, 5, 12, 33, 34, 35]\n",
    "    count, positions = BaseStationPlacement(houses)\n",
    "    print(\"基站数目为:\", count, \", 基站位置为:\", positions)\n",
    "\n",
    "# your algorithm time complexity is: $ O(n) $"
   ]
  },
  {
   "cell_type": "markdown",
   "metadata": {},
   "source": [
    "## 问题 8  \n",
    "\n",
    "> 给定由n个正整数组成的一个集合$S = \\{a_1, a_2，···，a_n\\}$和一个正整数W，设计一个算法确定是否存在S的一个子集 $K \\subseteq S$, 使K中所有数之和为 $W$, 如果存在返回“True”，否则返回“False”\n",
    "\n",
    "请设计一个时间复杂度为$O(nW)$动态规划算法，解决上述问题，分析算法的设计思路，并且基于python编程实现（不需要输出子集）。\n",
    "\n",
    "e.g. \n",
    "\n",
    "输入：S = {1,4,7,3,5}， W = 11，输出：True。   因为K可以是{4,7}。\n",
    "\n"
   ]
  },
  {
   "cell_type": "markdown",
   "metadata": {},
   "source": [
    "idea：\n",
    "\n",
    "***算法思路：*** *分析题目可知，问题是一个子集和的问题，且要求时间复杂度为$O(nW)$，则想到这样形式的时间复杂度与动态规划中表格法的时间复杂度相似，考虑使用动态规划的方法进行求解。子集和的问题，与背包问题类似，都是找到集合中的元素，累加其价值（这道题目的价值就是元素的值），达到某一条件。可以把这道题看作是一个背包问题。与动态规划一般方式类似，首先创建一个$(n+1) \\times (W+1)$的表格dp，dp[i][j]表示利用集合中的前i个元素，是否有子集的和为j。考虑边界值，dp[0][0]=true表示前0个元素能构成和为0的子集和，即为空集。那么类似的，对范围内任意i，dp[i][0]都为true，因为对任何集合，一个元素都不拿就都能构成子集和为0。然后遍历表格中除第一列第一行的所有位置（除开第一列是因为前面提到的任意集合的子集合都能有0的，除开第一行是因为集合的前0个元素只能构成子集和为0的，大于0子集的和都不成立），按照如下更新方式更新dp[i][j]：第i行表示新加入数组中第i个元素，且考虑第i个元素之前的元素。如果j比新加入的这个值i要小，那么加入这个值对是否能产生和为j的子集这个问题不影响，关键还是第i个元素之前的元素能否构成和为j的子集和，因此dp[i][j]=dp[i-1][j]，也就是第i个元素对构成和为j的子集和没有用，那么还是看第i个元素前面几个元素能不能构成和为j的子集和，能就能，不能就不能；相反的，如果新加入的值i小于等于和j，那么说不定i会有贡献，则考虑：1.第i个元素之前的几个元素能构成和为j的子集合吗，2.如果必须使用i元素，能构成满足条件的子集合吗。对于1，第i个元素之前的元素就能满足了则直接为True，如果不能满足，考虑2，必须使用了i，那么问题变成i之前的几个元素能否构成和为j减去第i个元素值的子集合，这个答案就是定义的dp[i-1][j-arr[i]]。由此得到了动态规划的状态转移公式，最后得到的dp[-1][-1][-1]即为结果。由此完成算法。*\n",
    "\n",
    "***时间复杂度分析：*** *由于是创建的二维表格，整个过程只是遍历表格中的格子，对每个格子赋值，其时间复杂度为$O(1)$。对$(n+1) \\times (W+1)$的表格，遍历时除开了第一行第一列，因此总共遍历了$n\\times W$次，所以总的时间复杂度为$O(nW)$。*"
   ]
  },
  {
   "cell_type": "code",
   "execution_count": 3,
   "metadata": {},
   "outputs": [
    {
     "name": "stdout",
     "output_type": "stream",
     "text": [
      "True\n"
     ]
    }
   ],
   "source": [
    "# add your idea here\n",
    "def judgeSumW(arr, W):\n",
    "    \"\"\"判断arr的子集求和能否得到w\"\"\"\n",
    "    dp = [[False for _ in range(W + 1)]] * (len(arr) + 1)\n",
    "\n",
    "    for i in range(len(arr) + 1):\n",
    "        dp[i][0] = True\n",
    "\n",
    "    for i in range(1, len(arr) + 1):\n",
    "        num = arr[i - 1]\n",
    "        for j in range(W + 1):\n",
    "            if j < num:\n",
    "                dp[i][j] = dp[i - 1][j]\n",
    "            else:\n",
    "                dp[i][j] = dp[i - 1][j] or dp[i - 1][j - num]\n",
    "    return dp[-1][-1]\n",
    "\n",
    "\n",
    "if __name__ == '__main__':\n",
    "    S = [1, 4, 7, 3, 5]\n",
    "    W = 11\n",
    "    print(judgeSumW(S, W))\n",
    "\n",
    "# your algorithm time complexity is: O(nW)"
   ]
  },
  {
   "cell_type": "markdown",
   "metadata": {},
   "source": [
    "\n",
    "\n",
    "## 问题 9 \n",
    "\n",
    "> 给定一个n个物品的集合。物体的重量为$w_1, w_2，…、w_n$，物品的价值分别是$v_1、v_2、…v_n$。给你**两个**重量为 $c$ 的背包。如果你带了一个东西，它可以放在一个背包里，也可以放在另一个背包里，但不能同时放在两个背包里。所有权重和价值都是正整数。\n",
    "\n",
    "1. 设计一个时间复杂度为 $O(nc^2)$ 的动态规划算法，确定可以放入两个背包的物体的最大价值。分析算法设计思路，并基于python编程实现\n",
    "2. \\* 修改1中的算法，输出每个背包的内容（物品对应下标）。\n",
    "\n",
    "e.g.: \n",
    "\n",
    "输入 V=[1,3,2,5,8,7], W=[1,3,2,5,8,7], c=7, 输出：最大价值=14，背包装的物品为：[6] [4，3] （同一个背包中物品装入顺序对结果无影响）  \n"
   ]
  },
  {
   "cell_type": "markdown",
   "metadata": {},
   "source": [
    "idea：\n",
    "\n",
    "***算法思路：*** \n",
    "\n",
    "***问题1的Idea：***\n",
    "\n",
    "*根据题目描述，看出问题为经典的背包问题，只是背包数量从1增长到了2。由题目中描述的时间复杂度为$O(nc^2)$，则由一般的使用动态规划法求解问题时常创建的二位数组扩展到三维数组dp[i][j][k]，用来表示尝试将集合中前i个物品放入这两个背包，背包1剩余容量为j，背包2剩余容量为k，后可获得的最大价值。然后求解状态转移方程，与一般背包问题类似，对于每一个新可考虑第i个物品，有三种处理方式：1.舍弃，不放入任何背包；2. 考虑放入背包1；3.考虑放入背包2；如果舍弃，则dp[i][j][k]和不考虑第i个物品的情况一致，则dp[i][j][k]=dp[i-1][j][k]；如果尝试放入背包1，则需要先保证背包剩余容量j大于等于第i个物品的重量，满足此条件后，比较放入第i个物品后总价值是否相较于不放该物品增加，以此决定是否放入背包1，由此得到状态转移方程为dp[i][j][k] = max(dp[i][j][k],dp[i-1][j-w_i][k])。第三种情况类似。最后完成对三维数组的填充后，dp[-1][-1][-1]即为最大价值。*\n",
    "\n",
    "***问题2的Idea：***\n",
    "\n",
    "*由问题1中已经得到了最大的价值，现在需要知道是哪些物品被放入了哪个背包，则直接从最大价值的dp[n][c][c]处开始使用回溯的思想反推。根据状态转移方程，如果dp[i][j][k]等于dp[i-1][j][k]，则表明第i-1个物品被舍弃，并未放入任何背包；如果dp[i][j][k]等于dp[i-1][j-weight[i-1]][k]+value[i-1]，则说明这个物品放入了背包1；类似的，如果dp[i][j][k]等于dp[i-1][j][k-weight[i-1]]+value[i-1]，则这个物品放入了背包2。确定好之后，对应容量减去这个物品容量，继续上述步骤。最终得到了两个背包中的物品。*"
   ]
  },
  {
   "cell_type": "code",
   "execution_count": 13,
   "metadata": {},
   "outputs": [
    {
     "name": "stdout",
     "output_type": "stream",
     "text": [
      "最大价值= 14, 背包装的物品为： [5] [3, 2]\n"
     ]
    }
   ],
   "source": [
    "# add your idea here\n",
    "def TwoKnapsackProblem(weight, value, c):\n",
    "    n = len(weight)  # 物品数量\n",
    "    # dp[i][j][k] 表示考虑前 i 个物品，背包1容量为 j，背包2容量为 k 时能获得的最大价值\n",
    "    dp = [[[0] * (c + 1) for _ in range(c + 1)] for _ in range(n + 1)]\n",
    "    # 状态转移\n",
    "    for i in range(1, n + 1):\n",
    "        w = weight[i - 1]\n",
    "        v = value[i - 1]\n",
    "        for j in range(c + 1):  # 背包1容量\n",
    "            for k in range(c + 1):  # 背包2容量\n",
    "                # 情况1：不选第 i 个物品\n",
    "                dp[i][j][k] = dp[i - 1][j][k]\n",
    "                # 情况2：尝试放入背包1\n",
    "                if j >= w:\n",
    "                    prev_value = dp[i - 1][j - w][k]\n",
    "                    new_value = prev_value + v\n",
    "                    if new_value > dp[i][j][k]:\n",
    "                        dp[i][j][k] = new_value\n",
    "                # 情况3：尝试放入背包2\n",
    "                if k >= w:\n",
    "                    prev_value = dp[i - 1][j][k - w]\n",
    "                    new_value = prev_value + v\n",
    "                    if new_value > dp[i][j][k]:\n",
    "                        dp[i][j][k] = new_value\n",
    "\n",
    "    # 回溯阶段：恢复两个背包中各放了哪些物品\n",
    "    bag1, bag2 = [], []\n",
    "    j, k = c, c  # 当前两个背包的容量\n",
    "    for i in range(n, 0, -1):\n",
    "        w = weight[i - 1]\n",
    "        v = value[i - 1]\n",
    "        current_value = dp[i][j][k]\n",
    "        # 检查是否是放入了背包1\n",
    "        if j >= w and dp[i - 1][j - w][k] + v == current_value:\n",
    "            bag1.append(i - 1)\n",
    "            j -= w\n",
    "        # 检查是否是放入了背包2\n",
    "        elif k >= w and dp[i - 1][j][k - w] + v == current_value:\n",
    "            bag2.append(i - 1)\n",
    "            k -= w\n",
    "        # 否则，这个物品没有被使用\n",
    "        # continue\n",
    "\n",
    "    # 返回最大价值和两个背包各自的物品下标（按原始顺序）\n",
    "    return dp[n][c][c], bag1,bag2\n",
    "\n",
    "\n",
    "\n",
    "if __name__ == '__main__':\n",
    "    V = [1, 3, 2, 5, 8, 7]\n",
    "    W = [1, 3, 2, 5, 8, 7]\n",
    "    c = 7\n",
    "\n",
    "    value, bag1, bag2 = TwoKnapsackProblem(W, V, c)\n",
    "    print(\"最大价值=\", value, end=', ')\n",
    "    print(\"背包装的物品为：\", bag1, bag2)\n",
    "\n",
    "\n",
    "# your algorithm time complexity is: O(nc^2)"
   ]
  },
  {
   "cell_type": "markdown",
   "metadata": {},
   "source": [
    "## 问题 10 \n",
    "\n",
    "> 给定两个字符串 $x[1..n]$ 和 $y[1..m]$，我们想通过以下操作将 $x$ 变换为 $y$ :\n",
    ">\n",
    "> **插入**：在 $x$ 中插入一个字符(在任何位置)；**删除**：从 $x$ 中删除一个字符(在任何位置)； **替换**：用另一个字符替换 $x$ 中的一个字符。\n",
    ">\n",
    "> 例如: $x = abcd$, $y = bcfe$，\n",
    ">\n",
    "> - 将 $x$ 转换为 $y$ 的一种可能方法是：1. 删除 $x$ 开头的 $a$, $x$变成 $bcd$； 2. 将 $x$ 中的字符 $d$ 替换为字符 $f$。$x$ 变成 $bcf$； 3. 在 $x$ 的末尾插入字符 $e$。$x$ 变成 $bcfe$。\n",
    ">\n",
    "> - 另一种可能的方法：1. 删除 $x$ 开头的 $a$,  $x$ 变成 $bcd$； 2. 在 $x$ 中字符 $d$ 之前插入字符 $f$。$x$ 变成 $bcfd$。3. 将 $x$ 中的字符 $d$ 替换为字符 $e$。$x$ 变成 $bcfe$。\n",
    "\n",
    "设计一个时间复杂度为 $O(mn)$ 的算法，返回将 $x$ 转换为 $y$ 所需的最少操作次数。分析算法设计思路，并基于python编程实现。\n"
   ]
  },
  {
   "cell_type": "markdown",
   "metadata": {},
   "source": [
    "idea：\n",
    "\n",
    "***算法思路：*** *由前面几道题的引导，结合题目中所要求的时间复杂度$O(mn)$，考虑仍旧使用动态规划方法实现。首先创建一个$(n+1) \\times (m+1)$的二维dp数组。假设dp[i][j]表示x的前i个字符构成的字符串变换到y的前j个字符串需要的最少的步骤。对于dp表格的第一行，表示从空字符串依次转换为y的前j个字符构成的字符串，那么只考虑插入操作，则第一行的值为0,1,2,...,m；考虑第一列，表示从x的前i个字符构成的字符串转为空数组，那么只需要执行删除，第一列的元素依次为0,1,2,...,n；以上是dp表格的边界值，再继续往后推，考虑dp[1][1]时，其含义是x的前1个字符构成的字符串变换到y的前1个字符所构成的字符串的最少步数，现在只考虑一个字符，如果这两个字符一样，那么不需要执行操作，则需要的步数实际为0，因为多考虑的一个新的字符位置，那么此时dp[i][j]=dp[i-1][j-1]；另外复杂一点的情况是两个字符不是同一个，那么此时考虑插入、删除、替换操作：一个字符不相等，那么考虑替换操作，直接用y的第一个字符替换x的第一个字符，需要的步数+1，类比到最后一步等价于dp[i][j]=dp[i-1][j-1]+1；如果考虑使用删除操作，那么对应的dp[i][j]=dp[i-1][j]+1，对应插入操作，dp[i][j]=dp[i][j-1]+1；可以通过以上三种方式实现，那么只需要找到这三种方法中的最小的值作为dp[i][j]即可，由此便得到了完整的dp表格。表格的右下角即为最少的步数。（assist by GPT.）*"
   ]
  },
  {
   "cell_type": "code",
   "execution_count": 12,
   "metadata": {},
   "outputs": [
    {
     "name": "stdout",
     "output_type": "stream",
     "text": [
      "最少操作数为: 3\n"
     ]
    }
   ],
   "source": [
    "# add your idea here\n",
    "def MinOperator(x, y):\n",
    "    n, m = len(x), len(y)\n",
    "    # 初始化dp数组\n",
    "    dp = [[0] * (m + 1) for _ in range(n + 1)]\n",
    "\n",
    "    # 初始化边界条件\n",
    "    for i in range(n + 1):\n",
    "        dp[i][0] = i  # 删除 i 个字符\n",
    "    for j in range(m + 1):\n",
    "        dp[0][j] = j  # 插入 j 个字符\n",
    "\n",
    "    # 填表\n",
    "    for i in range(1, n + 1):\n",
    "        for j in range(1, m + 1):\n",
    "            if x[i - 1] == y[j - 1]:\n",
    "                # 如果两个字符是一样的\n",
    "                dp[i][j] = dp[i - 1][j - 1]\n",
    "            else:\n",
    "                dp[i][j] = dp[i][j] = min(dp[i - 1][j - 1], dp[i][j - 1], dp[i - 1][j]) + 1\n",
    "\n",
    "    return dp[-1][-1]\n",
    "\n",
    "\n",
    "if __name__ == '__main__':\n",
    "    x = \"abcd\"\n",
    "    y = \"bcfe\"\n",
    "    print(f\"最少操作数为: {MinOperator(x, y)}\")\n",
    "# your algorithm time complexity is: O(mn)"
   ]
  },
  {
   "cell_type": "code",
   "execution_count": null,
   "metadata": {},
   "outputs": [],
   "source": []
  }
 ],
 "metadata": {
  "kernelspec": {
   "display_name": "Python 3 (ipykernel)",
   "language": "python",
   "name": "python3"
  },
  "language_info": {
   "codemirror_mode": {
    "name": "ipython",
    "version": 3
   },
   "file_extension": ".py",
   "mimetype": "text/x-python",
   "name": "python",
   "nbconvert_exporter": "python",
   "pygments_lexer": "ipython3",
   "version": "3.12.3"
  }
 },
 "nbformat": 4,
 "nbformat_minor": 4
}

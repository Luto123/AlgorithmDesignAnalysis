{
 "cells": [
  {
   "cell_type": "markdown",
   "metadata": {},
   "source": [
    "## algorithm design and anlysis-2025 spring  homework 1 \n",
    "**Deadline**：2025.5.14\n",
    "\n",
    "**name**:\n",
    "\n",
    "\n",
    "note：\n",
    "---\n",
    "1. 带有\\*的题目，申请免上课的同学，必须完成，其他同学选作；\n",
    "2. 请独立完成，如求助了他人或者大模型，请著明，并且不可省略算法分析部分；\n",
    "4. 如若作答有雷同，全部取消成绩；\n",
    "3. 需要书面作答的题目，可以通过引用图片的形式添加，但是注意上传项目时包含所引用的图片的源文件；\n",
    "4. $log_n$ 默认表示$log_2{n}$;"
   ]
  },
  {
   "cell_type": "markdown",
   "metadata": {},
   "source": [
    "## 问题 1\n",
    "\n",
    "对于下面的每一对表达式(A, B), A是否能表示为B的 $\\Theta, \\Omega ,O$形式. 请注意, 这些关系中的零个、一个或多个可能成立。列出所有正确的。经常发生一些学生会,把指示写错, 所以请把关系写完整, 例如: $A = O(B),  A =\\Theta(B)$, 或$A = \\Omega(B)$。\n",
    "\n",
    "1. $A=n^2-100n, B=n^2$\n",
    "2. $A=logn, B=log_{1.2}n$\n",
    "3. $A=3^{2n}, B=2^{4n}$\n",
    "4. $A=2^{logn}, B=n$\n",
    "5. $A=\\log{\\log}{n},B=10^{10^{100}}$"
   ]
  },
  {
   "attachments": {},
   "cell_type": "markdown",
   "metadata": {},
   "source": [
    "can refer a handwritten picture, pleas upload the picture in /fig/xxx.png\n",
    "answer:\n",
    "\n",
    "*My Answer:*\n",
    "1. $A = O(B), A =\\Theta(B), A = \\Omega(B)$\n",
    "2. $A = O(B), A =\\Theta(B), A = \\Omega(B)$\n",
    "3. $A = O(B)$\n",
    "4. $A = O(B), A =\\Theta(B), A = \\Omega(B)$\n",
    "5. $A = \\Omega(B)$\n",
    "\n",
    "![figure](./fig/H1-P1.jpg)\n"
   ]
  },
  {
   "cell_type": "markdown",
   "metadata": {},
   "source": [
    "## 问题 2：\n",
    "\n",
    "假设有函数 $f$ 和 $g$ 使得 $f(n)$ = $O(g(n))$ 对于下面的每一个陈述, 请判断对错, 如果正确请给出证明, 否则请给出一个反例。\n",
    "\n",
    "1. $\\log{f(n)}$ = $O(\\log(1+g(n)))$\n",
    "2. $3^{f(n)}=O(3^{g(n)})$\n",
    "3. $(f(n))^2=O((g(n))^2)$ "
   ]
  },
  {
   "cell_type": "markdown",
   "metadata": {},
   "source": [
    "you can refer a handwritten picture, pleas upload the picture in /fig/xxx.png\n",
    "answer:\n",
    "\n",
    "*My Answer:*\n",
    "1. 正确\n",
    "2. 错误\n",
    "3. 正确\n",
    "![figure](./fig/H1-P2.jpg)"
   ]
  },
  {
   "cell_type": "markdown",
   "metadata": {},
   "source": [
    "## 问题 3\n",
    "\n",
    "根据下列递归公式, 计算下列 $T(n)$ 对应的的渐近上界。要求所求的边界尽可能的紧（tight）, 请写明步骤。\n",
    "\n",
    "1. $T(1)=1; T(n)=T(n/4)+1$ for $n>1$\n",
    "2. $T(1)=1;T(n)=3T(n/3)+n^2$ for $n>1$\n",
    "3. $T(1)=1;T(n)=T(2n/3)+1$ for $n>1$\n",
    "4. $T(1)=1;T(n)=5T(n/4)+n$ for $n>1$\n",
    "5. $T(n)=1 \\ for\\ n \\le 2 ; T(n)=T(\\sqrt{n})+1 \\ for \\ n>2$"
   ]
  },
  {
   "cell_type": "markdown",
   "metadata": {},
   "source": [
    "can refer a handwritten picture, pleas upload the picture in /fig/xxx.png\n",
    "answer:\n",
    "\n",
    "*My Answer:*\n",
    "1. $T(n)=\\Theta(\\log{n})$\n",
    "2. $T(n)=\\Theta(n^2)$\n",
    "3. $T(n)=\\Theta(\\log n)$\n",
    "4. $T(n)=\\Theta(n^{\\log_{4}5})$\n",
    "5. $T(n)=\\Theta(\\log{(\\log{n})})$\n",
    "![figure](./fig/H1-P3-1.jpg)\n",
    "![figure](./fig/H1-P3-2.jpg)"
   ]
  },
  {
   "cell_type": "markdown",
   "metadata": {},
   "source": [
    "## 问题 4：\n",
    "\n",
    "给定一个包含n个元素的数组 `profits` , 它的第 `i` 个元素 `profits[i]` 表示一支股票第 `i` 天的**收益**（正数表示涨, 负数表示跌）。你只能选择 **某一天** 买入这只股票, 并选择在 **未来的某一个不同的日子** 卖出该股票。\n",
    "\n",
    "1. 设计一个算法来计算你所能获取的最大利润和对应买入和卖出的日期。请分析算法方案, 计算其时间复杂度, 并且使用python编程实现该算法。\n",
    "\n",
    "2. \\* 设计一个时间复杂度为 $O(n)$的算法实现该算法\n",
    "\n",
    "e.g. :\n",
    "---\n",
    "profits=[3,2,1,-7,5,2,-1,3,-1], 第5天买入, 第8天卖出, 收益最大：9\n",
    "\n"
   ]
  },
  {
   "cell_type": "markdown",
   "metadata": {},
   "source": [
    "**问题1的Idea**：\n",
    "*除去问题中的描述信息，问题可看作一个最大子数组和问题，原问题可以重述为：给定一个长度为n的数组，在数组中确定一个区间的左右边界i和j，(i!=j),最大化这个区间中所有元素的和，限制时间复杂度为O(n)。*\n",
    "    \n",
    "*对于问题1无时间复杂度要求，则直接使用双层循环，由外层循环i固定区间左边界，内层循环j遍历i之后的每一个元素，同时累计求得区间ij的总的收益，并与前面记录的最大收益作比较，如果获得了更大的收益则则更新最大收益，并同时记录左右边界的值i和j，循环结束后则能直接得到解。由此完成getMaxProfit_P1代码。*\n",
    "    \n",
    "*由于代码中的两层循环，外层循环执行了n-1次，当外循环迭代变量为i时，内循环执行n-i-1次，总执行次数就是外层循环每次迭代时内层循环执行次数的总和，可得到时间复杂度为$O(n^2)$。*\n",
    "    \n",
    "\n",
    "\n",
    "**问题2*的Idea**：\n",
    "\n",
    "*由于有时间复杂度O(n)的限制，并且涉及到数组，那么只能是通过一次遍历得到结果，结合下面的倒推，想到使用动态规划方法。*\n",
    "\n",
    "*现为了找出状态转移方程：使用倒退的思路，先确定结束的区间边界j，以样例的一部分为参考（这里为了方便，ij都使用数组下标，范围为[0，4]，对应到样例的元素为[3,2,1,-7,5]），状态转移方程设置dp[i]表示以第i天作为右边界(卖出日)的最大收益。*\n",
    "\n",
    "*第一步假设此时右边界为4（对应收益为5），那么可能的区间有：[0,1,2,3,4]、[1,2,3,4]、[2,3,4]、[3,4]共四种情况。无论哪一种情况，以这一天为卖出日，肯定会承担当日的收益，所有状态转移方程肯定有+profits[4]的部分。*\n",
    "    \n",
    "*考虑以上四种区间的最后一种[3,4]，只需要是profits[3]+profit[4]。而对于其他三种区间，前面提到了都需要+profits[4]，那直接把前三种区间的最后的4去掉，即现在求区间[0,1,2,3]、[1，2，3]、[2,3]和的最大值,再和profits[3]+profits[4]的和的最大值作比较，最后+profits[4]就是答案，那也就是这一步的状态转移方程的代入：那么dp[4]=max(sum(p[0,1,2,3]),sum(p[1，2，3]),sum(p[2,3]),profits[3])+profit[4]即为答案。*\n",
    "    \n",
    "*进一步分析非常明显的是求这三个区间[0,1,2,3]、[1，2，3]、[2,3]的最大和又可以看作是求以3为右边界的收益最大值问题，即状态转移方程的dp[4]=max(dp[3],profits[3])+profits[4]。类似的向前推，最后一个[2,3]区间表示为profits[2]+profit[3]，其他两个区间把最后的3去掉又变成了[0,1,2]、[1,2]，又变成了以2为右边界的收益最大值问题。那么类似的dp[3]=max(sum(p[0,1,2]),sum(p[1,2]),profits[2])+profits[3],进一步确认了状态转移方程dp[3]=max(dp[2],profits[2])+profits[3]。*\n",
    "    \n",
    "*最后最后一步倒退，看一下下标为0的边界情况怎么设置。上面两个区间把最后2去掉，得到[0,1]和[1]两个区间，根据题意描述的“未来的某一个不同的日子”则[1]这个区间就不成立了，属于特殊情况。根据上面推出来的状态转移方程，类比得到[1]位置对应的dp[1]=max(dp[0],p[0])+profits[1]，那么为了状态转移方程的通用性，可以设置dp[0]=profits[0]，但要注意dp[0]和dp[i] (i>0)拥有了不同含义，dp[i] (i>0)表示以下标i为右边界也就是卖出日的下标，dp[0]没有这层含义，也不满足题意的“未来的某一个不同的日子”的要求。*\n",
    "    \n",
    "*那么整理得到状态转移方程：\n",
    "    当i=0时，dp[i]=profits[0]；\n",
    "    当i>0时，dp[i]=max(dp[i-1],profits[i-1])+profits[i]；\n",
    "由此完成getMaxProfit_P2代码。*\n",
    "\n",
    "*代码中可以看出只执行了一层对profits[1:]的遍历，则可得时间复杂度为O(n).*"
   ]
  },
  {
   "cell_type": "code",
   "execution_count": 2,
   "metadata": {},
   "outputs": [
    {
     "name": "stdout",
     "output_type": "stream",
     "text": [
      "第5天买入, 第8天卖出, 收益最大: 9. (从profits数组索引对应到日期进行了+1).\n"
     ]
    }
   ],
   "source": [
    "# add your code\n",
    "# 问题1：\n",
    "def getMaxProfit_P1(profits):\n",
    "    \"\"\"\n",
    "    获取最大收益值，买入日，卖出日\n",
    "    :param profits:\n",
    "    :return:\n",
    "    \"\"\"\n",
    "    # 首先条件约束，profits长度至少为2才能满足题意\n",
    "    if len(profits) < 2:\n",
    "        print(\"不满足题意：“未来的某一个不同的日子卖出”\")\n",
    "        return\n",
    "\n",
    "    max_profit = float('-inf')\n",
    "    max_profit_left = 0\n",
    "    max_profit_right = 1\n",
    "\n",
    "    for i in range(len(profits) - 1):\n",
    "        sum_profits = profits[i]\n",
    "        for j in range(i + 1, len(profits)):\n",
    "            sum_profits += profits[j]\n",
    "            if sum_profits > max_profit:\n",
    "                max_profit = sum_profits\n",
    "                max_profit_left = i\n",
    "                max_profit_right = j\n",
    "    print(\n",
    "        f'第{max_profit_left + 1}天买入, 第{max_profit_right + 1}天卖出, 收益最大: {max_profit}. (从profits数组索引对应到日期进行了+1).')\n",
    "\n",
    "if __name__ == '__main__':\n",
    "    getMaxProfit_P1([3, 2, 1, -7, 5, 2, -1, 3, -1])\n"
   ]
  },
  {
   "cell_type": "code",
   "execution_count": 12,
   "metadata": {},
   "outputs": [
    {
     "name": "stdout",
     "output_type": "stream",
     "text": [
      "第5天买入, 第8天卖出, 收益最大: 9. (从profits数组索引对应到日期进行了+1).\n"
     ]
    }
   ],
   "source": [
    "# an algorithm with O(n)\n",
    "# 问题2：\n",
    "def getMaxProfit(profits):\n",
    "    \"\"\"\n",
    "    获取最大收益值，买入日，卖出日\n",
    "    :param profits:\n",
    "    :return:\n",
    "    \"\"\"\n",
    "    # 首先条件约束，profits长度至少为2才能满足题意\n",
    "    if len(profits) < 2:\n",
    "        print(\"不满足题意：“未来的某一个不同的日子卖出”\")\n",
    "        return\n",
    "\n",
    "    # 动态规划实现\n",
    "    dp = [-1] * len(profits)\n",
    "    dp[0] = profits[0]  # 特殊情况dp[0]的先赋值\n",
    "    max_profit_begin_dp = [-1] * len(\n",
    "        profits)  # 由于dp[i]表示以i为右边界(卖出日)的最大收益，以max_profit_begin_dp这个变量记录对应dp[i]的左边界（每个以i为卖出日获得最大收益的左边界（买入日））\n",
    "    max_profit_begin_dp[0] = 0\n",
    "    max_profit = float('-inf')  # 记录最大收益值\n",
    "    max_profit_end = None  # 最大收益卖出日\n",
    "    for i in range(1, len(profits)):\n",
    "        dp[i] = max(dp[i - 1], profits[i - 1]) + profits[i]  # 根据idea中的状态转移方程计算dp\n",
    "\n",
    "        # 以下部分是为了得到最大收益日对应的买入卖出日期\n",
    "        # 1. 如果获得了新的最大收益\n",
    "        if dp[i] > max_profit:\n",
    "            # 1.1 更新最大收益值\n",
    "            max_profit = dp[i]\n",
    "            # 1.2 更新最大收益值的右边界\n",
    "            max_profit_end = i\n",
    "        # 2. 无论有没有产生新的最大收益，都要对每个dp[i]记录其左边界\n",
    "        if dp[i - 1] > profits[i - 1]:\n",
    "            # 如果是以第i天为右边界的卖出获得的收益更大\n",
    "            max_profit_begin_dp[i] = max_profit_begin_dp[i - 1]\n",
    "        else:\n",
    "            max_profit_begin_dp[i] = i - 1\n",
    "\n",
    "    print(f'第{max_profit_begin_dp[max_profit_end]+1}天买入, 第{max_profit_end+1}天卖出, 收益最大: {max_profit}. (从profits数组索引对应到日期进行了+1).')\n",
    "\n",
    "\n",
    "if __name__ == '__main__':\n",
    "    getMaxProfit([3, 2, 1, -7, 5, 2, -1, 3, -1])\n",
    "# your algorithm time complexity is :冒泡排序的时间复杂度是$ O(n^2) $。"
   ]
  },
  {
   "cell_type": "markdown",
   "metadata": {},
   "source": [
    "## 问题 5：\n",
    "\n",
    "观察下方的分治算法（divide-and-conquer algorithm）的伪代码, 回答下面问题\n",
    "\n",
    "```latex\n",
    "DoSomething(A,p,r)\n",
    "-----\n",
    "n := r-p+1\n",
    "if n=2 and A[p]>A[r] then\n",
    "    swap A[p] and A[r]\n",
    "else if n >= 3 then\n",
    "    m = ceil(2n/3)\n",
    "    DoSomething(A,p,p+m-1)\n",
    "    DoSomething(A,r-m+1,r)\n",
    "    DoSomething(A,p,p+m-1)  \n",
    "    \n",
    "---\n",
    "first call: DoSomething(A,1,n)\n",
    "```\n",
    "\n",
    "note：$ceil(2n/3)=\\left\\lceil {2n/3} \\right\\rceil$；$:=$ 表示赋值, 等价于 $\\to$；A是一个包含n的整数元素的数组, \n",
    "\n",
    "1. 写出该算法时间复杂度的递归公式, 并求解其对应的渐进表示\n",
    "2. 描述一下该算法的功能, 并判断是否是最高效的解决方案\n",
    "3. 使用python编程实现上述算法或其对应的更高效版本的算法\n"
   ]
  },
  {
   "cell_type": "markdown",
   "metadata": {},
   "source": [
    "idea：\n",
    "\n",
    "**问题1的Idea:**\n",
    "\n",
    "*在该算法中，首先对n的定义n=r-p+1，可以认为是当前要处理A数组中从p到r的n个元素。分支结构中，除开elif的部分可以得出，当n<=2时，只需要执行一次交换或什么也不做就能退出，可以看作次数+1。分支结构中的elif分支中，当n>=3时，首先定义m=ceil(2n/3)，表示对当前处理的n个元素的2/3处分割，再通过递归调用三次DoSomething函数，依次代表了对分割的左、右分别输入DoSomething函数，以及再次对左侧输入DoSomething函数，所以这三次调用时，输入的都是当前n个元素的数组的2/3序列（中间1/3的序列在三次调用中都被输入了，假设长度为9的数组，m=6，三次调用依次处理[0-5],[3-8],[0-5]），那么进入DoSomething函数的规模都是2n/3。*\n",
    "\n",
    "*采用递归树的方法：首先主要的else if中的三个调用，看作三个子问题，每个子问题的数据规模都是2n/3，子问题最终执行工作量的大小都为1。第一层问题规模为2n/3，有3个子问题，第二层问题规模 $ n*(2/3)^2 $，有$3*3$个子问题，所以第k层问题规模为$n*(2/3)^k$，子问题数量为$3^k$，每一层执行工作量的大小为$3^k$。结束条件为：$n*(2/3)^k \\leq 2$。求解得到$k \\geq log_{\\frac{3}{2}}n - log_{\\frac{3}{2}}2=\\Theta(\\log n)$，所以得到的递归深度为$\\Theta(\\log n)$。并且由于每一层的总工作量为$\\Theta(3^{k})$，递归深度为$k=0$到$\\Theta(\\log n)$，所以求和，得到总的复杂度为: $ T(n)=\\sum_{k=0}^{\\log_{\\frac{3}{2}}n} \\Theta(3^k) $ ，通过等比数列求和，得到$ T(n)=\\Theta(n^{\\log_{\\frac{3}{2}}3}) $。* *（assist by GPT.）*\n",
    "\n",
    "**问题2的Idea:**\n",
    "\n",
    "*算法功能：通过观察伪代码中if分支的交换策略，可以认为是只有两个待处理元素时，将两个元素调整为升序排列，那么整体**功能**是将一个含有n个元素的数组不断地进行 $\\frac{2}{3}$ 分割，得到左侧2/3和右侧2/3，重复对两部分执行上述操作，直到分割后需要处理的元素数量为2时判断是否执行交换操作保证升序排列。递归执行完成，得到的A数组是一个排列好的升序序列，**因此该算法的功能就是对传入的数组A中以p为开始，r为结束（含r）的区间进行升序排列。***\n",
    "\n",
    "*是否高效：1. 通过1中得到的其递归时间复杂度为$ T(n)=\\Theta(n^{\\log_{\\frac{3}{2}}3}) $，明显可知其时间复杂度大于$O(n^2)$，低于一般的冒泡排序方法，可以认为其低效。2. 这个算法在每一次递归中调用了三次自身的函数，递归树增长非常快，并且每次递归的问题规模减小为$ \\frac{2n}{3} $，明显比其他算法低，例如快排的平均每次少一半。3. 三次递归都产生了对中间1/3部分的重叠调用。**以上三点认为其不是高效解决方案。***\n",
    "\n",
    "**问题3的Idea:**\n",
    "\n",
    "*相较于这个算法，直接使用**冒泡排序**作为更高效的方案。冒泡排序的时间复杂度是$ O(n^2) $。*"
   ]
  },
  {
   "cell_type": "markdown",
   "metadata": {},
   "source": [
    "answer:\n",
    "\n",
    "**问题1 Answer：**\n",
    "\n",
    "*时间复杂度递归公式：* $ T(n)=3T(\\lceil \\frac{2n}{3} \\rceil)+\\Theta(1) $ \n",
    "\n",
    "*对应渐进表示：* $ T(n)=\\Theta(n^{\\log_{\\frac{3}{2}}3}) $\n",
    "\n",
    "**问题2 Answer：**\n",
    "\n",
    "***该算法的功能：*** *就是对传入的数组A中以p为开始，r为结束（含r）的区间进行升序排列。*\n",
    "\n",
    "***算法是否高效解决方案：*** *由于其复杂度高，递归层数大，有重叠计算，认为不是高效的解决方案。*"
   ]
  },
  {
   "cell_type": "code",
   "execution_count": 13,
   "metadata": {},
   "outputs": [
    {
     "name": "stdout",
     "output_type": "stream",
     "text": [
      "题目算法： [1, 2, 3, 4, 5, 7, 9]\n",
      "冒泡排序： [1, 2, 3, 4, 5, 7, 9]\n"
     ]
    }
   ],
   "source": [
    "# add your code here\n",
    "import math\n",
    "\n",
    "def DoSomething(A, p, r):\n",
    "    \"\"\"题目中的原算法\"\"\"\n",
    "    n = r - p + 1\n",
    "    if n == 2 and A[p] > A[r]:\n",
    "        temp = A[p]\n",
    "        A[p] = A[r]\n",
    "        A[r] = temp\n",
    "    elif n >= 3:\n",
    "        m = math.ceil(2 * n / 3)\n",
    "        DoSomething(A, p, p + m - 1)\n",
    "        DoSomething(A, r - m + 1, r)\n",
    "        DoSomething(A, p, p + m - 1)\n",
    "    return A\n",
    "\n",
    "def BubbleSort(A):\n",
    "    \"\"\"冒泡排序算法\"\"\"\n",
    "    n = len(A)\n",
    "    for i in range(n):\n",
    "        for j in range(0, n - i - 1):\n",
    "            if A[j] > A[j + 1]:\n",
    "                A[j], A[j + 1] = A[j + 1], A[j]\n",
    "    return A\n",
    "\n",
    "if __name__ == '__main__':\n",
    "    arr = [9, 3, 5, 1, 4, 2, 7]\n",
    "    print('题目算法：', DoSomething(arr, 0, len(arr) - 1))\n",
    "    print('冒泡排序：', BubbleSort(arr))\n",
    "\n",
    "\n",
    "# your algorithm time complexity is :冒泡排序的时间复杂度是$ O(n^2) $。"
   ]
  },
  {
   "cell_type": "markdown",
   "metadata": {},
   "source": [
    "## 问题 6：\n",
    "\n",
    "给定一个大小为 `n` 的数组 `nums` , 返回其中的多数元素。多数元素是指在数组中出现次数 **大于** `⌊ n/2 ⌋` 的元素。\n",
    "\n",
    "你可以假设数组是非空的, 并且给定的数组总是存在多数元素。\n",
    "\n",
    "1. 设计一个算法找到给定数组的多数元素, 分析算法设计思路, 计算算法时间复杂度, 使用python编程实现\n",
    "2. \\* 设计时间复杂度为 O(n)、空间复杂度为 O(1) 的算法解决此问题, 分析算法设计思路, 使用python编程实现\n",
    "\n",
    "e.g.:\n",
    "---\n",
    "1. nums=[3,2,3], 返回3\n",
    "2. nums=[2,2,1,1,1,2,2], 返回2\n"
   ]
  },
  {
   "cell_type": "markdown",
   "metadata": {},
   "source": [
    "idea：\n",
    "\n",
    "**问题1的Idea：**\n",
    "\n",
    "***算法设计思路：*** *通过分析题目可知，由于数组是非空的, 并且给定的数组总是存在多数元素，多数元素的定义是指出现次数大于$\\lfloor \\frac{n}{2} \\rfloor$的元素，也就是这个出现次数最多的元素数量超过数组长度的一般，那么肯定有：将数组元素无论以何种顺序进行排序，中间位置的元素就是出现次数最多的元素，对应代码实现的思路就是：将原数组进行排序，排序后数组中$ \\lfloor \\frac{n}{2} \\rfloor $位置的元素即为多数元素，直接返回即可。*\n",
    "\n",
    "***时间复杂度分析：*** *以上算法思路中主要时间复杂度为排序的部分，实现是还是采用传统的冒泡排序对原数组进行升序排列，最后取中间元素的只需一步，时间复杂度为$ O(1) $，所以总的时间复杂度为$ O(n^2) $。*"
   ]
  },
  {
   "cell_type": "code",
   "execution_count": 2,
   "metadata": {},
   "outputs": [
    {
     "name": "stdout",
     "output_type": "stream",
     "text": [
      "多数元素为:  2\n"
     ]
    }
   ],
   "source": [
    "# add your code here\n",
    "# 问题1\n",
    "def BubbleSort(A):\n",
    "    n = len(A)\n",
    "    for i in range(n):\n",
    "        for j in range(0, n - i - 1):\n",
    "            if A[j] > A[j + 1]:\n",
    "                A[j], A[j + 1] = A[j + 1], A[j]\n",
    "    return A\n",
    "\n",
    "\n",
    "def getMaxCountNum(arr):\n",
    "    arr = BubbleSort(arr)\n",
    "    return arr[len(arr) // 2]\n",
    "\n",
    "\n",
    "if __name__ == '__main__':\n",
    "    A = [2, 2, 2, 1, 1, 1, 2, 2, 2]\n",
    "    print('多数元素为: ',getMaxCountNum(A))\n",
    "\n",
    "# your algorithm time complexity is :$O(n^2)$"
   ]
  },
  {
   "cell_type": "markdown",
   "metadata": {},
   "source": [
    "idea for 2*：\n",
    "\n",
    "**问题2*的Idea：**\n",
    "\n",
    "***算法设计思路：*** *题目要求时间复杂度为 O(n)、空间复杂度为 O(1) 的算法，而题目是在数组上进行的，那么就只能是一次遍历过程和确定数量的变量定义。分析题目中的多数元素的定义，多数元素数量就是比非多数元素数量要多，所以想到使用一一抵消的策略：依次遍历这个数组，定义一个变量result记录当前认为的多数元素，result_count记录result元素还剩下的抵消次数，一开始设置result为arr[0]，result_count=1。如果当前元素等于result的值，那么认为result又被发现了一次，后面又能和别的元素抵消一次，result_count+1；相反，如果不相等，就用一个result抵消一次，对应result_count-1，如果过程中提前发现result_count=0了，就说明result在目前来看已经被抵消完了，但是由于多数元素的定义，如果现在的result就是多数元素的话，肯定还会再出现。所以把result设置为当前遍历值，result_count重置为1即可。遍历完成后，result中存储的就是对应的多数元素。*\n",
    "\n",
    "***时空复杂度分析：*** *过程中只涉及到从第二个元素到最后一个元素的遍历，因此时间复杂度为O(n)；过程中只创建了result和result_count两个变量，且创建的两个变量是固定的，不会受到数组长度的影响，因此空间复杂度为O(1)；时空复杂度均满足题意。* "
   ]
  },
  {
   "cell_type": "code",
   "execution_count": 15,
   "metadata": {},
   "outputs": [
    {
     "name": "stdout",
     "output_type": "stream",
     "text": [
      "多数元素为:  2\n"
     ]
    }
   ],
   "source": [
    "# algorithm time complexity：O(n), space complexity:O(1)\n",
    "# add your code here\n",
    "def getMaxCountNum_P2(arr):\n",
    "    result = arr[1]  # 记录多数元素\n",
    "    result_count = 1  # result还能抵消的数量\n",
    "    for i in range(1, len(arr)):\n",
    "        if result_count == 0:  # 前面的已经和result抵消完了，可以从现在当作是重新开始\n",
    "            result = arr[i]\n",
    "            result_count = 1\n",
    "            continue\n",
    "        if result != arr[i]:  # 不和result相等，count-1抵消一个\n",
    "            result_count -= 1\n",
    "        else:\n",
    "            result_count += 1  # 和result相等，count+1还能再抵消一个\n",
    "    return result\n",
    "\n",
    "\n",
    "if __name__ == '__main__':\n",
    "    A = [2, 2, 1, 1, 1, 2, 2]\n",
    "    print('多数元素为: ', getMaxCountNum_P2(A))\n"
   ]
  },
  {
   "cell_type": "markdown",
   "metadata": {},
   "source": [
    "## 问题 7：\n",
    "\n",
    "给定一个包含不同整数元素的数组 $ A[1..n]$ ,并且满足条件：$A[1]>A[2]$ 并且 $A[n-1]<A[n]$; 规定：如果一个元素比它两边的邻居元素都小, 即：$A[x]<A[x-1], A[x]<A[x+1]$ , 称这个元素A[x]为“局部最小”。通过遍历一次数组, 我们可以很容易在 $O(n)$的时间复杂度下找到一个局部最小值, \n",
    "\n",
    "\n",
    "1. 分析该问题, 设计一个算法在$O(logn)$的时间复杂度下找到一个局部最小(返回数值), 要求：分析算法设计思路, 并且使用python编程实现\n",
    "2. \\* 设计算法找出所有局部最小值, 分析算法设计思路, 并使用python编程实现\n",
    "\n",
    "e.g.:\n",
    "---\n",
    "A=[9, 3, 7, 2, 1, 4, 5 ] 时,  局部最小元素为 3, 1\n"
   ]
  },
  {
   "cell_type": "markdown",
   "metadata": {},
   "source": [
    "idea：\n",
    "\n",
    "**问题1的Idea：**\n",
    "\n",
    "*由题意可知，这个数组的第一个元素必然大于第二个元素，且倒数第一个元素必然大于倒数第二个元素，满足这样要求的数组按照其索引与对应的值绘制折线图，图中至少存在一个点，对应的值小于左右两侧相邻元素的值，同时这个值也是满足题意的“局部最小”，问题1要求设计满足时间复杂度为$ O(\\log n) $的算法，找到下一个局部最小值。一般的思路可以通过一次遍历，比较元素左右两侧的值，如果左右相邻元素的值都比当前元素值大，那么这个元素为“局部最小”，但一次遍历的时间复杂度为 $ O(n) $ ,不满足要求。*\n",
    "\n",
    "*分析题意得到重要两点：1. 算法是在一维数组上进行的；2. 时间复杂度要求为 $ O(\\log n) $ ；通过这两点想到类似的二分查找算法。二分查找是在有序数组中查找对应元素的位置，每次循环或递归将问题的规模降低1/2，最终满足时间复杂度$ O(\\log n) $。题目中数组元素整体上是无序的，但是是部分有序的，认为可以借鉴递归二分查找的思路（因此代码实现也使用递归的方式）。*\n",
    "\n",
    "*由于问题1中找要求找到下一个局部最小，借鉴二分查找的方法，得到的算法思路如下：首先对于长度为m的数组，首先判断其中间位置的元素是否为局部最小（判断是否为局部最小的条件如题目中所描述的，两侧相邻的元素都比这个元素大，则认为其是局部最小），如果是，则直接返回这个局部最小。如果不是局部最小，那么与二分查找类似，根据条件确定是再查找以中间为分界的左半部分还是右半部分，这里下一步查找的条件是，如果中间位置左侧元素比中间位置元素小，那么由局部最小的定义，局部最小应该出现在其左侧（**但是有可能中间位置是与题目定义相反的局部最大，这种情况下结合题目定义，右边也会出现局部最小值，但是问题1只要求找到下一个，那么就主要关注左边第一个出现的局部最小，第二问再讨论这种情况**），则向左半部分查找，反之向右半部分查找。**与二分查找不一样的地方还有一个重要的点：** 中间位置的元素也要一并传入到左或右边部分，无论对左还是右半部分，重复上述过程，直到找到这个局部最小值进行返回。*\n",
    "\n",
    "*由于参考了二分查找的过程，其时间复杂度与二分查找一致，为$ O(\\log n) $。*"
   ]
  },
  {
   "cell_type": "code",
   "execution_count": 5,
   "metadata": {},
   "outputs": [
    {
     "name": "stdout",
     "output_type": "stream",
     "text": [
      "局部最小： 1\n"
     ]
    }
   ],
   "source": [
    "# add your code here\n",
    "def findLocalMin(arr, l, r):\n",
    "    # 递归二分查找方式查找局部最小值\n",
    "    # 判断是否满足局部最小存在的必要条件：数组至少有三个元素才可能存在局部最小\n",
    "    if r - l + 1 < 3:\n",
    "        return None\n",
    "\n",
    "    mid = (r + l) // 2  # 确定中间位置\n",
    "    # 判断中间位置是否为局部最小\n",
    "    if arr[mid - 1] > arr[mid] and arr[mid + 1] > arr[mid]:\n",
    "        # 是局部最小，直接返回\n",
    "        return arr[mid]\n",
    "    # 中间位置不是局部最小\n",
    "    if arr[mid - 1] < arr[mid]:  # 题目条件是元素不等，不考虑相等情况\n",
    "        # 左边值比中间值小，根据题目定义，局部最小出现在左边（当然mid位置可能是局部最大，右边也会有，但是只找到最先出现的）\n",
    "        # 递归调用，查找左半部分\n",
    "        return findLocalMin(arr, l, mid)\n",
    "    else:\n",
    "        # 左边比中间大，只能是左中右单减，因为mid不是局部最小，那局部最小应该出现再右侧\n",
    "        return findLocalMin(arr, mid, r)\n",
    "\n",
    "\n",
    "if __name__ == '__main__':\n",
    "    A = [9, 3, 7, 2, 1, 4, 5]\n",
    "    print('局部最小：',findLocalMin(A, 0, len(A) - 1))\n",
    "\n",
    "# your algorithm time complexity is :$O(\\log n)$"
   ]
  },
  {
   "cell_type": "markdown",
   "metadata": {},
   "source": [
    "idea:\n",
    "\n",
    "**问题2*的Idea：**\n",
    "\n",
    "***算法思路：*** *通过问题1的分析以及代码实现，很容易在问题1代码上实现问题2的算法。在问题1的代码中，如果mid位置元素是局部最小，那么直接返回该元素，走到这里代码就能直接退出。但问题2与问题1的区别是，数组中还可能存在别的局部最小，所以不再像问题1代码实现中一样去确定局部最小是否可能在mid的左或者右。如果mid是局部最小，只打印但不退出，再直接以包含mid位置的左和右再递归输入到该函数中，就能找到所有的局部最小。*\n",
    "\n",
    "***算法复杂度：*** *假设当前区间长度为$n-r-l+1$，记时间复杂度为$T(n)$，如果n<3，直接返回，时间复杂度为$O(1)$，否则再进入两次递归调用，这里两个子问题的问题规模为$\\frac{n}{2}+1$，+1是因为两次递归都含有mid，与二分查找的递归有区别。所以得到时间复杂度的递归表达式为：$ T(n)=T(\\lfloor \\frac{n}{2} \\rfloor + 1)+T(\\lceil \\frac{n}{2} \\rceil + 1)+O(1) $，去掉取整，上界记作：$ T(n)\\leq 2T(\\frac{n}{2}+1)+O(1) $。由递归树角度分析，其时间复杂度为$O(n)$，与一次遍历得到所有局部最小的时间复杂度一样，都为$O(n)$。*"
   ]
  },
  {
   "cell_type": "code",
   "execution_count": 1,
   "metadata": {},
   "outputs": [
    {
     "name": "stdout",
     "output_type": "stream",
     "text": [
      "局部最小有： 3, 1, "
     ]
    }
   ],
   "source": [
    "# add your code here\n",
    "# 问题2\n",
    "def findLocalMin_P2(arr, l, r):\n",
    "    # 递归二分查找方式查找所有局部最小值\n",
    "    # 判断是否满足局部最小存在的必要条件：数组至少有三个元素才可能存在局部最小\n",
    "    if r - l + 1 < 3:\n",
    "        return\n",
    "\n",
    "    mid = (r + l) // 2  # 确定中间位置\n",
    "    # 判断中间位置是否为局部最小\n",
    "    if arr[mid - 1] > arr[mid] and arr[mid + 1] > arr[mid]:\n",
    "        # 是局部最小，直接返回\n",
    "        print(arr[mid], end=', ')\n",
    "        return\n",
    "    # 再分别找左右有没有局部最小\n",
    "    findLocalMin_P2(arr, l, mid)\n",
    "    findLocalMin_P2(arr, mid, r)\n",
    "\n",
    "\n",
    "\n",
    "if __name__ == '__main__':\n",
    "    A = [9, 3, 7, 2, 1, 4, 5]\n",
    "    print('局部最小有：', end=' ')\n",
    "    findLocalMin_P2(A, 0, len(A) - 1)\n",
    "\n",
    "# your algorithm time complexity is :$ O(n) $"
   ]
  },
  {
   "cell_type": "markdown",
   "metadata": {},
   "source": [
    "## 问题 8：\n",
    "\n",
    "给定包含n个不同数字的一组数, 寻找一种基于比较的算法在这组数中找到k个最小的数字, 并按顺序输出它们。\n",
    "\n",
    "1. 将n个数先进行排序, 然后按顺序输出最小的k个数。要求：选择合适的排序算法实现上述操作, 计算算法时间复杂度, 并使用python编程实现。\n",
    "2. 建立一个包含这n个数的堆（heap）, 并且调用 k 次Extract-min 按顺序输出最小的k个数。使用往空堆中不断插入元素的方法建立堆, 分析这种方法建堆的时间复杂度, 并使用python编程实现\n",
    "3. \\* 假设数组中包含的数据总数目超过了计算机的存储能力, 请设计一个算法, 找到这堆数据的前k小的数值, 计算时间复杂度, 并使用python实现该算法, 假设计算机一定能存储k个数据。\n",
    "\n",
    "e.g.：\n",
    "---\n",
    "数组arr=[5,4,3,2,6,1,88,33,22,107] 的前3个最小数据为：1, 2, 3\n"
   ]
  },
  {
   "cell_type": "markdown",
   "metadata": {},
   "source": [
    "idea：\n",
    "\n",
    "**问题1的Idea：**\n",
    "\n",
    "***算法思路：*** *按照题目要求先对n个数进行升序排列，再得到最小的k个数。使用冒泡排序对这n个数进行升序排序，排序完成后，在从起始位置遍历k次并输出得到最小的k个数。*\n",
    "\n",
    "***时间复杂度计算：*** *在对n个数进行升序排列时采用了冒泡排序，其平均的时间复杂度为$O(n^2)$，排序完成后，再次遍历其前k个数，得到最小的k个数，这一步骤的时间复杂度为$O(k)$，所以总的时间复杂度为$O(n^2+k)$，其中$O(n^2)$占据主导，所以这个算法的时间复杂度为$O(n^2)$，代码实现如下：*"
   ]
  },
  {
   "cell_type": "code",
   "execution_count": 7,
   "metadata": {},
   "outputs": [
    {
     "name": "stdout",
     "output_type": "stream",
     "text": [
      "最小的3个数为： [1, 2, 3]\n"
     ]
    }
   ],
   "source": [
    "# add your code here\n",
    "# 问题1：\n",
    "def BubbleSort(A):\n",
    "    \"\"\"冒泡排序算法\"\"\"\n",
    "    n = len(A)\n",
    "    for i in range(n):\n",
    "        for j in range(0, n - i - 1):\n",
    "            if A[j] > A[j + 1]:\n",
    "                A[j], A[j + 1] = A[j + 1], A[j]\n",
    "    return A\n",
    "\n",
    "\n",
    "def ExtractBottomK_P1(arr, k):\n",
    "    \"\"\"问题1 返回arr序列中的最小的k个数\"\"\"\n",
    "    arr = BubbleSort(arr)\n",
    "    return arr[:k]\n",
    "\n",
    "\n",
    "if __name__ == '__main__':\n",
    "    A = [5, 4, 3, 2, 6, 1, 88, 33, 22, 107]\n",
    "    print(f'最小的{3}个数为：', ExtractBottomK_P1(A, k=3))\n",
    "    \n",
    "# your algorithm time complexity is :$ O(n^2) $"
   ]
  },
  {
   "cell_type": "markdown",
   "metadata": {},
   "source": [
    "**问题2的Idea：**\n",
    "\n",
    "***时间复杂度分析：*** *通过题目描述，首先创建一个空的小根堆，之后依次遍历每个元素将其插入到这个堆中，最后重复k次弹出堆顶元素，输出得到最小的k个值。在堆中，插入一个元素所需的时间复杂度为$O(\\log n)$，总共n个数，所以插入操作所需的时间复杂度为$O(n \\log n)$。在堆中，取堆顶元素的时间复杂度为$O(\\log n)$，总共需要弹出堆顶元素k次，所以k次Extract-min操作的时间复杂度为$O(k \\log n)$。总共的时间复杂度为$O((n+k) \\log n)$。代码实现如下：*"
   ]
  },
  {
   "cell_type": "code",
   "execution_count": 10,
   "metadata": {},
   "outputs": [
    {
     "name": "stdout",
     "output_type": "stream",
     "text": [
      "最小的3个数为： [1, 2, 3]\n"
     ]
    }
   ],
   "source": [
    "# 问题2\n",
    "import heapq\n",
    "\n",
    "def ExtractBottomK_P2(arr, k):\n",
    "    min_heap = []\n",
    "\n",
    "    # 插入元素到堆中（建堆）\n",
    "    for i in range(len(arr)):\n",
    "        heapq.heappush(min_heap, arr[i])\n",
    "\n",
    "    # 提取最小的 k 个数\n",
    "    result = []\n",
    "    for _ in range(k):\n",
    "        if min_heap:\n",
    "            result.append(heapq.heappop(min_heap))\n",
    "    return result\n",
    "\n",
    "\n",
    "if __name__ == '__main__':\n",
    "    A = [5, 4, 3, 2, 6, 1, 88, 33, 22, 107]\n",
    "    print(f'最小的{3}个数为：', ExtractBottomK_P2(A, k=3))\n"
   ]
  },
  {
   "cell_type": "markdown",
   "metadata": {},
   "source": [
    "**问题3*的Idea：**\n",
    "\n",
    "***算法思路：*** *由问题2题目中所给的提示，考虑使用堆的结构进行实现。创建一个固定容量为k的大顶堆，当堆中数据量不超过k时，直接将数据插入到堆中。如果数量刚好等于k，那么将待插入的数据与堆顶元素做比较，如果待插入的数据比堆顶元素小，那么移除堆顶元素，将待插入数据插入到堆中，直到所有数据都被遍历过一次，堆中存储的数据即为最小的k个数。之后连续pop k次即能得到最小的k个数。*\n",
    "\n",
    "***时间复杂度分析：*** *由于要遍历每一个数，那么遍历所有数的时间复杂度为$O(n)$，每次执行插入或替换操作的时间复杂度最大为$O(\\log k)$，所以总的时间复杂度为$O(n \\log k)$。由于整个过程中需要存储的只是截至到当前遍历的最小的k(或者小于k)个数，空间复杂度只为$O(k)$，满足题目中的假设“保证计算机能存储k个数”。代码实现如下：*"
   ]
  },
  {
   "cell_type": "code",
   "execution_count": 13,
   "metadata": {},
   "outputs": [
    {
     "name": "stdout",
     "output_type": "stream",
     "text": [
      "最小的3个数为： [1, 2, 3]\n"
     ]
    }
   ],
   "source": [
    "def ExtractBottomK_P3(arr, k):\n",
    "    max_heap = []\n",
    "\n",
    "    # 插入元素到堆中（建堆）\n",
    "    for i in range(len(arr)):\n",
    "        if len(max_heap) < k:\n",
    "            # 堆中元素不足k，直接插入\n",
    "            heapq.heappush(max_heap, -1 * arr[i])  # 取相反数，构建大顶堆\n",
    "        else:\n",
    "            if -1 * arr[i] > max_heap[0]:\n",
    "                # 有比堆中最大的数还小的数，那么移除最大数，插入新的数\n",
    "                heapq.heappop(max_heap)\n",
    "                heapq.heappush(max_heap, -1 * arr[i])\n",
    "    # 取最小的k个数\n",
    "    result = []\n",
    "    for _ in range(k):\n",
    "        result.insert(0, -1 * heapq.heappop(max_heap))\n",
    "    return result\n",
    "\n",
    "\n",
    "if __name__ == '__main__':\n",
    "    A = [5, 4, 3, 2, 6, 1, 88, 33, 22, 107]\n",
    "    print(f'最小的{3}个数为：', ExtractBottomK_P3(A, k=3))\n"
   ]
  },
  {
   "cell_type": "markdown",
   "metadata": {},
   "source": [
    "## 问题 9：\n",
    "\n",
    "**选择问题**:给定一个包含n个未排序值的数组A和一个$k≤n$的整数, 返回A中最小的第k项。\n",
    "\n",
    "在课堂上, 学了一个简单的O(n)随机算法来解决选择问题。事实上还有一种更复杂的最坏情况下时间复杂度为$O(n)$ 的选择算法。假设使用一个黑盒过程来实现这个O(n)选择算法: 给定一个数组A、 $p < r$ 和 k,  $BB(A, p, r, k)$ 可以在$O(r−p+ 1)$时间内找到并报告$A[p..r]$中第k小的项的下标。假设你可以在线性时间内处理Partition过程。\n",
    "\n",
    "1. 请分析如何修改 Quicksork 算法可以使其最差情况下的运行时间为 $O(nlogn)$, 使用伪代码实现, 并分析为何修改后的版本最差情况的运行时间为$O(nlogn)$\n",
    "\n",
    "note: 伪代码中, 你可以直接调用用` BB(A,p,r,k)`这个函数用于表示在最坏情况下时间复杂度为$O(n)$的选择算法；\n",
    "\n",
    "\n",
    "\n",
    "2. 找到一个更好的算法报告数组A中的前k小的项, 使用伪代码表示你的算法, 并分析你算法的时间复杂度。\n",
    "\n",
    "举例：A=[13, 3, 7, 9, 11, 1, 15, 2, 8, 10, 12, 16, 14, 5], 当k=4时, 应该报告1, 2, 3, 4\n",
    "\n",
    "note： 最直观的方法就是先将数组A排序, 然后从左向右报告其前k项, 这样操作的时间复杂度为$O(nlogn)$. 调用用` BB(A,p,r,k)`设计一个算法使其报告无序数组A的前k项, 满足时间复杂度好于$\\Theta(nlogn)$, 并且当$k=\\sqrt{n}$时, 你设计的算法时间复杂度应该为$\\Theta(n)$.\n",
    "\n",
    "\n",
    "\n",
    "3. 给定一个大小为n的数组, 找到一个 时间复杂度为$O(n log k)$ 的算法, 该算法将A中的元素重新排序, 使它们被划分为k个部分, 每个部分的元素小于或等于下一部分的元素。假设n和k都是2的幂。使用伪代码表示你的算法, 并分析时间复杂度。\n",
    "\n",
    "e.g.:\n",
    "---\n",
    "数组：[1,  3,  5,  7,  9,  11,  13,  15,  2,  4,  6,  8,  10,  12,  16,  14], k=4, \n",
    "\n",
    "对应重新排序的数组为：[1,  3,  2,  4]  [7,  6,  5,  8]  [12,  11,  10,  9]  [13,  14,  16,  15]\n",
    "\n",
    "\n"
   ]
  },
  {
   "cell_type": "markdown",
   "metadata": {},
   "source": [
    "idea：\n",
    "\n",
    "**问题1的Idea：**\n",
    "\n",
    "***算法思路：*** *在一般的快速排序算法中，如果pivot选择策略不好，那么最坏的情况下的时间复杂度为$O(n^2)$，而想将其时间复杂度转为$O(n \\log n)$，则需要保证每次递归或者循环时，数据规模量减小到原来的1/2，参考PPT中的思路，每次选择每个部分的**中位数**作为pivot，能够平衡划分，每次将问题数据规模降低1/2，以得到时间复杂度为$O(n \\log n)$的修改后的快速排序算法。*\n",
    "\n",
    "***时间复杂度分析：*** *BB方法会花费$O(n)$时间寻找中位数，Partition会花费$O(n)$时间进行按数据大小左右分组，总共的时间复杂度为$O(n)$，递归的总层数为$(O(\\log n)$，那么总的时间复杂度为：$O(n \\log n)$。*\n",
    "\n",
    "**问题2的Idea：**\n",
    "\n",
    "***算法思路：*** *由题目提供的BB方法和问题1的思路，首先使用BB算法找到第k小的元素的值，之后再遍历一次数组，得到所有小于第k小的元素的值，那么收集到的值加上前面得到的第k小的值就能组成算法的输出。*\n",
    "\n",
    "***时间复杂度分析：*** *算法中BB的时间复杂度为$O(n)$，一次遍历过程采集小于第k小的元素的值的时间复杂度为$O(n)$，最后对取得的result排序，由题目中条件可知，对k个数据的排序的时间复杂度为$O(k \\log k)$，所以总的时间复杂度为$O(n+k \\log k)$，且当$k=\\sqrt{n}$时，$O(n+k \\log k)=O(n+\\sqrt{n} \\log \\sqrt{n})=\\Theta(n)$。*\n",
    "\n",
    "\n",
    "**问题3的Idea：**\n",
    "\n",
    "***算法思路：*** *由前面问题1和问题2很容易想到使用BB等长进行划分，将整个长度为为n的序列划分为k个分段，第i个分段的所有元素小于等于第i+1个分段的所有元素，那么可以通过多路选择的方式，通过递归使用BB分割中间值，直到分出k个分段。每一次划分都使用BB(A, p, r, m)找到第m小的元素，然后将序列划分为两个部分，按照比例将n个元素划分为两部分，然后对两部分递归划分为k/2个分段，直到满足结束条件k=1。*\n",
    "\n",
    "***时间复杂度分析：*** *对于每一次划分将序列划分为两个部分，每次都会调用BB和Partition，则时间复杂度为$O(n)$，然后，由于每次会对半进行划分，例如，16分为8+8，8分为4+4...，总共会划分$\\log k$层，因此时间复杂度为$O(n \\log k)$。*"
   ]
  },
  {
   "cell_type": "markdown",
   "metadata": {},
   "source": [
    "add your pseudo-code here\n",
    "\n",
    "*问题1的伪代码：*\n",
    "```python\n",
    "def QuickSortModified(A,p,r):\n",
    "    if p < r:\n",
    "        # 以pr中间的中位数索引作为pivot\n",
    "        q = BB(A, p, r, ceil(r-p+1)/2)\n",
    "        # 中位数与末尾交换\n",
    "        swap(A[q], A[r])\n",
    "        # 小的放左边，大的放右边\n",
    "        pivot_index = Partition(A, p, r)\n",
    "        # 递归处理两侧子数组\n",
    "        quickSortModified(A, p, pivot_index - 1)\n",
    "        quickSortModified(A, pivot_index + 1, r)\n",
    "```    \n",
    "\n",
    "*问题2的伪代码：*\n",
    "```python\n",
    "def ExtractBottomK_P3(arr, k):\n",
    "    k_small_index = BB(A, 0, n-1, k) # 拿到第k小的数的索引\n",
    "    value = A[k_small_index] # 取值\n",
    "\n",
    "    result = []\n",
    "\n",
    "    for i in range(0, n):\n",
    "        if A[i] < value:\n",
    "            result.append(A[i])\n",
    "    result.append(value)\n",
    "    升序排列result\n",
    "    return result    \n",
    "```\n",
    "\n",
    "*问题3的伪代码：*\n",
    "```python\n",
    "def SplitKSection(A,p,r,k):\n",
    "    if k==1:\n",
    "        return\n",
    "        \n",
    "    mid = k // 2\n",
    "    m = BB(A, p, r, ((r - p + 1) * mid) // k)   // 选出第 mid/k 大的元素下标\n",
    "    swap(A[q], A[r])\n",
    "    q = Partition(A, p, r)\n",
    "\n",
    "    SplitKSection(A, p, q - 1, mid)\n",
    "    SplitKSection(A, q + 1, r, k - mid)\n",
    "```"
   ]
  },
  {
   "cell_type": "markdown",
   "metadata": {},
   "source": [
    "## 问题 10：\n",
    "\n",
    "给定一个包含m个**字符串**的数组A, 其中不同的字符串可能有不同的字符数, 但数组中所有字符串的字符总数为n。设计一个算法在 $O(n)$ 时间内对字符串进行排序, 分析算法设计方案, 计算其时间复杂度, 并基于python编程实现该算法。请注意, 假设字符串只包含\"a\",\"b\",...,\"z\", \n",
    "\n",
    "\n",
    "\n",
    "举例1：数组A=[\"a\", \"da\", \"bde\", \"ab\", \"bc\", \"abdc\", \"cdba\"], 排序后的数组应该为：['a', 'ab', 'abdc', 'bc', 'bde', 'cdba', 'da']\n",
    "\n",
    "\n",
    "\n",
    "举例2：数组A=['ab', 'a', 'b', 'abc', 'ba', 'c'], 排序后的数组应该为：\n",
    "\n",
    "['a', 'ab', 'abc', 'b', 'ba', 'c']\n",
    "\n",
    "\n",
    "\n",
    "举例3：数组A=['aef', 'yzr', 'wr', 'ab', 'bhjc', 'lkabdc', 'pwcdba'],  排序后的数组应该为：['ab', 'aef', 'bhjc', 'lkabdc', 'pwcdba', 'wr', 'yzr']\n",
    "\n",
    "\n",
    "\n",
    "note：\n",
    "\n",
    "-  两个字符之间的比较可以考虑比较他们对应的ASCII码值；\n",
    "- python中可以使用`ord(\"a\")`返回字符 “a”对应的ASCII值"
   ]
  },
  {
   "cell_type": "markdown",
   "metadata": {},
   "source": [
    "idea:\n",
    "\n",
    "***算法思路：*** *由题目中提到的，没个字符串的长度不固定，但字符总数固定为n，且要求算法时间复杂度为$ O(n) $，想到类似的求解数值排序的* ***基数排序*** *，在比基数排序中比较不同数值时，首先比较所有元素的最低位获得一个排序结果，再依次比较高位得到下一个排序结果，直到这些数中的最高位次也被比较完成，此时得到的排序结果即为最终的答案。题目中转移到了不等长字符串的比较，而每个字符也可以通过ASCII码转为25进制数，参与到一般的基数排序中。由一般的基数排序对应到这道题目的场景下，算法过程可以描述为：首先获得最长字符串的长度（对应数值比较中的最高位次），然后从每个字符串的低位开始，每个字符进行比较（与数值比较中，从低位开始比较类似），得到一个排序结果，之后依次从后往前的比较每个字符，重复上面的过程，最后得到如题目要求的排序结果。*\n",
    "\n",
    "***时间复杂度分析：*** *类比基数排序，对每个字符串中的每个字符，每一位进行一次计数排序，时间复杂度为$O(m+26)$，总共需要排序的次数由最长字符串的长度决定，题目中给出了m个字符串总共含有n个字符，所以排序轮次最多处理n个字符，由此得到总的时间复杂度为$O(n)$。*"
   ]
  },
  {
   "cell_type": "code",
   "execution_count": 1,
   "metadata": {},
   "outputs": [
    {
     "name": "stdout",
     "output_type": "stream",
     "text": [
      "['a', 'ab', 'abdc', 'bc', 'bde', 'cdba', 'da']\n",
      "['a', 'ab', 'abc', 'b', 'ba', 'c']\n",
      "['ab', 'aef', 'bhjc', 'lkabdc', 'pwcdba', 'wr', 'yzr']\n"
     ]
    }
   ],
   "source": [
    "# add your code here\n",
    "# 问题10\n",
    "def RadixSortStrings(A):\n",
    "    max_len = max(len(s) for s in A)  # 找出最长字符串的长度\n",
    "    # 从最后一位到第一位逐位排序\n",
    "    i = max_len - 1\n",
    "    while i >= 0:\n",
    "        # 建立一个长度为27的列表，包含了补足高位+1\n",
    "        tmp = [[] for i in range(27)]\n",
    "        # 将每个字符串根据当前字符放入桶中\n",
    "        for s in A:\n",
    "            if len(s) > i:\n",
    "                ch = s[i]\n",
    "                idx = ord(ch) - ord('a') + 1\n",
    "            else:\n",
    "                idx = 0\n",
    "            tmp[idx].append(s)\n",
    "        # 合并\n",
    "        A = []\n",
    "        for group in tmp:\n",
    "            for item in group:\n",
    "                A.append(item)\n",
    "        i = i - 1\n",
    "    return A\n",
    "\n",
    "\n",
    "if __name__ == '__main__':\n",
    "    A = [\"a\", \"da\", \"bde\", \"ab\", \"bc\", \"abdc\", \"cdba\"]\n",
    "    print(RadixSortStrings(A))\n",
    "    A = ['ab', 'a', 'b', 'abc', 'ba', 'c']\n",
    "    print(RadixSortStrings(A))\n",
    "    A = ['aef', 'yzr', 'wr', 'ab', 'bhjc', 'lkabdc', 'pwcdba']\n",
    "    print(RadixSortStrings(A))\n",
    "# your algorithm time complexity is :$ O(n) $"
   ]
  }
 ],
 "metadata": {
  "kernelspec": {
   "display_name": "Python 3 (ipykernel)",
   "language": "python",
   "name": "python3"
  },
  "language_info": {
   "codemirror_mode": {
    "name": "ipython",
    "version": 3
   },
   "file_extension": ".py",
   "mimetype": "text/x-python",
   "name": "python",
   "nbconvert_exporter": "python",
   "pygments_lexer": "ipython3",
   "version": "3.12.3"
  }
 },
 "nbformat": 4,
 "nbformat_minor": 4
}

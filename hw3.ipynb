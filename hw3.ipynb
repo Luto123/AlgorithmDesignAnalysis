{
 "cells": [
  {
   "cell_type": "markdown",
   "metadata": {},
   "source": [
    "## algorithm design and anlysis-2025 spring  homework 3\n",
    "**Deadline**：2025.5.14\n",
    "\n",
    "**name**:\n",
    "\n",
    "\n",
    "note：\n",
    "---\n",
    "1. 带有\\*的题目，申请免上课的同学，必须完成，其他同学选作；\n",
    "2. 请独立完成，如求助了他人或者大模型，请著明，并且不可省略算法分析部分；\n",
    "4. 如若作答有雷同，全部取消成绩；\n",
    "3. 需要书面作答的题目，可以通过引用图片的形式添加，但是注意上传项目时包含所引用的图片的源文件；\n",
    "4. $log_n$ 默认表示$log_2{n}$;"
   ]
  },
  {
   "cell_type": "markdown",
   "metadata": {},
   "source": [
    "## 问题 1  \n",
    "\n",
    "请证明基于比较的排序算法计算复杂度下界为$\\Omega(nlogn)$"
   ]
  },
  {
   "cell_type": "markdown",
   "metadata": {},
   "source": [
    "you can refer a handwritten picture, pleas upload the picture in /fig/xxx.png\n",
    "answer：\n",
    "![H3-P1.jpg](./FIG/H3-P1.jpg)\n",
    "*assist by GPT.*"
   ]
  },
  {
   "cell_type": "markdown",
   "metadata": {},
   "source": [
    "## 问题 2 \n",
    "\n",
    "构建二叉搜索树\n",
    "\n",
    "> 1. 给定一个数组 [48, 33, 49, 47, 42, 46, 32], 构建一个二叉搜索树存储这些数据，请**绘制**所构建的**二叉搜索树**（标明结点的值）。\n",
    "> 2. 从第1问的二叉搜索树中删除33，请**绘制**删除33后的**二叉搜索树**（标明结点的值）\n",
    "\n",
    "- 推荐使用graphviz包绘制树的结构"
   ]
  },
  {
   "cell_type": "markdown",
   "metadata": {},
   "source": [
    "you can refer a handwritten picture, pleas upload the picture in /fig/xxx.png\n",
    "answer：\n",
    "\n",
    "![H3-P2.jpg](./FIG/H3-P2.jpg)"
   ]
  },
  {
   "cell_type": "markdown",
   "metadata": {},
   "source": [
    "## 问题 3 \n",
    "\n",
    "> 下面是九门课程的开始和结束时间:\n",
    ">\n",
    "> [(9:00,12:30), (11:00,14:00), (13:00, 14:30), (9:00,10:30),(13:00, 14:30),(14:00,16:30), (15:00,16:30), (15:00,16:30), (9:00,10:30)]\n",
    ">\n",
    "> 请使用贪婪算法为这九门课分配教室，要求在同一天内安排这些课，并且每个教室同一时间只能安排一门课。\n",
    "\n",
    "**请问最少需要几间教室，罗列出每个教室安排的课程**"
   ]
  },
  {
   "cell_type": "markdown",
   "metadata": {},
   "source": [
    "idea：\n",
    "\n",
    "***算法思路：*** *由题目所要求的使用贪婪算法，想到贪心的目标是用最少的教室满足排课，即在每一步都想用最少的教室安排课程，如果实在时间有冲突再考虑可用的教室数量+1。由于课程的时间是按照时间线推进的，教室中一门课结束后即能提供给下一课程使用，所以考虑对已经有的教室按照已安排课程的最后结束时间升序排列，由于时间节点不方便比较，而最早的课程时间为9：00，设置9点整的值为0，时间以分钟计算，例如12：30记作0+3.5\\*60=210。开始时创建字典存储每个教室及其对应的课程，并对每一门课程按照其开始时间升序排序。之后遍历每一门课程，如果教室字典为空，则创建新的教室；若不为空，则查看得到教室字典能最早空出来的教室，并判断这门课程能否安排在这个教室，如果能，则装入这个教室，如果不能，则这门课也不能装入其他几个教室，只能创建新的教室。直到所有的课程全部被装入，此时教室字典的长度就是教室的数量，字典的元素即为对应教室的课程安排。*"
   ]
  },
  {
   "cell_type": "code",
   "execution_count": 15,
   "metadata": {
    "vscode": {
     "languageId": "plaintext"
    }
   },
   "outputs": [
    {
     "name": "stdout",
     "output_type": "stream",
     "text": [
      "最少需要3个教室, 具体安排为: \n",
      "教室1安排课程: ['(9:00, 10:30)', '(11:00, 14:00)', '(14:00, 16:30)']\n",
      "教室2安排课程: ['(9:00, 10:30)', '(13:00, 14:30)', '(15:00, 16:30)']\n",
      "教室3安排课程: ['(9:00, 12:30)', '(13:00, 14:30)', '(15:00, 16:30)']\n"
     ]
    }
   ],
   "source": [
    "def allocateClassroom(courses):\n",
    "    \"\"\"为课程安排教室\"\"\"\n",
    "    # 先对每门课程进行排序，先以课程开始时间升序排列，课程开始时间相同的，以课程结束时间升序排列\n",
    "    for i in range(len(courses) - 1):\n",
    "        for j in range(i + 1, len(courses)):\n",
    "            if courses[i][0] > courses[j][0]:\n",
    "                # i课程开始的比j课程晚\n",
    "                courses[i], courses[j] = courses[j], courses[i]  # 交换\n",
    "            elif courses[i][0] == courses[j][0]:\n",
    "                # ij课程开课时间相同\n",
    "                if courses[i][1] > courses[j][1]:\n",
    "                    # i课程结束的比j课程晚\n",
    "                    courses[i], courses[j] = courses[j], courses[i]  # 交换\n",
    "\n",
    "    # 创建教室字典\n",
    "    rooms = {}\n",
    "    for course in courses:\n",
    "        if len(rooms) == 0:\n",
    "            # 教室字典为空，新加入一个教室并将当前课程加到空教室\n",
    "            rooms[str(len(rooms) + 1)] = [course]\n",
    "        else:\n",
    "            # 不为空\n",
    "            # 先找到最早结束课程的教室\n",
    "            earliest_key, earliest_value = getEarliestEmptyRoom(rooms)\n",
    "            # 看看这个教室是否能装入这门课程\n",
    "            if earliest_value <= course[0]:\n",
    "                # 能装入\n",
    "                rooms[earliest_key].append(course)\n",
    "            else:\n",
    "                # 不能装入，则新建教室\n",
    "                rooms[str(len(rooms) + 1)] = [course]\n",
    "    return rooms\n",
    "\n",
    "\n",
    "def getEarliestEmptyRoom(rooms):\n",
    "    \"\"\"返回最早结束课程的教室的key\"\"\"\n",
    "    earliest_key = None\n",
    "    earliest_value = None\n",
    "    for room in rooms.keys():\n",
    "        if earliest_key is None:\n",
    "            # 空值初始化\n",
    "            earliest_key = room\n",
    "            earliest_value = rooms[room][-1][1]\n",
    "        else:\n",
    "            if earliest_value > rooms[room][-1][1]:\n",
    "                # 有更早结束课程的教室\n",
    "                earliest_key = room\n",
    "                earliest_value = rooms[room][-1][1]\n",
    "    return earliest_key, earliest_value\n",
    "\n",
    "\n",
    "if __name__ == '__main__':\n",
    "    # C = [(9:00,12:30), (11:00,14:00), (13:00, 14:30), (9:00,10:30),(13:00, 14:30),(14:00,16:30), (15:00,16:30), (15:00,16:30), (9:00,10:30)]\n",
    "    C = [(0, 210), (120, 300), (240, 330), (0, 90), (240, 330), (300, 450), (360, 450), (360, 450), (0, 90)]\n",
    "    M = {(0, 210): '(9:00, 12:30)', (120, 300): '(11:00, 14:00)', (240, 330): '(13:00, 14:30)', (0, 90): '(9:00, 10:30)',\n",
    "         (300, 450): '(14:00, 16:30)', (360, 450): '(15:00, 16:30)', (0, 90): '(9:00, 10:30)'}\n",
    "    result = allocateClassroom(C)\n",
    "    print(f'最少需要{len(result)}个教室, 具体安排为: ')\n",
    "    for key in result.keys():\n",
    "        print(f'教室{key}安排课程: {[M[a] for a in result[key]]}')\n"
   ]
  },
  {
   "cell_type": "markdown",
   "metadata": {},
   "source": [
    "## 问题 4 \n",
    "\n",
    "> 爬楼梯问题：假设爬楼梯时你每次只能爬一阶或者爬两阶，问爬上n阶的楼梯，你一共有多少种方法\n",
    "\n",
    "请设计算法完成该问题，分析算法设计思路，计算时间复杂度，并基于python编程实现"
   ]
  },
  {
   "cell_type": "markdown",
   "metadata": {},
   "source": [
    "idea：\n",
    "\n",
    "***算法思路：*** *如果当前处于第n阶楼梯，那么上一步的位置只有可能是第n-1或n-2阶，由此可以得到状态转移方程为$f(n)=f(n-1)+f(n-2)$。考虑边界情况，当$n<3$时需要特殊考虑，$n=2$时，有走连续两次一阶和走一次两阶两种方法，因此$f(2)=2$；当$n=1$时，只能走一次一阶，则$f(1)=1$。由以上边界值和状态转移方程可代码实现。*\n",
    "\n",
    "***时间复杂度分析：*** *由算法分析中提出的状态转移公式$f(n)=f(n-1)+f(n-2)$，递归得到$f(n)=f(n-1)+f(n-2)=f(n-2)+f(n-3)+f(n-3)+f(n-2)=...$ ，可以认为对于任意$f(i)$，都被计算了两次，i的范围为从2到n-1，近似的可以认为总共计算了$n^2$次，因此其时间复杂度为$O(n^2)$。*"
   ]
  },
  {
   "cell_type": "code",
   "execution_count": 16,
   "metadata": {},
   "outputs": [
    {
     "name": "stdout",
     "output_type": "stream",
     "text": [
      "爬上3阶楼梯，共有3种方法\n",
      "爬上7阶楼梯，共有21种方法\n",
      "爬上11阶楼梯，共有144种方法\n"
     ]
    }
   ],
   "source": [
    "# add your code here\n",
    "def getAllStep(n):\n",
    "    \"\"\"爬上n阶楼梯可以有多少种方法\"\"\"\n",
    "    if 1 <= n <= 2:\n",
    "        # 如果只有一阶或二阶\n",
    "        return n\n",
    "    return getAllStep(n - 1) + getAllStep(n - 2)\n",
    "\n",
    "\n",
    "if __name__ == '__main__':\n",
    "    n = 3\n",
    "    print(f'爬上{n}阶楼梯，共有{getAllStep(n)}种方法')\n",
    "    n = 7\n",
    "    print(f'爬上{n}阶楼梯，共有{getAllStep(n)}种方法')\n",
    "    n = 11\n",
    "    print(f'爬上{n}阶楼梯，共有{getAllStep(n)}种方法')\n",
    "\n",
    "\n",
    "# your algorithm time complexity is: $ O(n^2) $"
   ]
  },
  {
   "cell_type": "markdown",
   "metadata": {},
   "source": [
    "## 问题 5 \n",
    "\n",
    "> 0-1背包问题：现在有4块大理石，每个大理石对应的重量和价值使用一个元组表示, 即（重量，价值），4块大理石的重量和价值为：[(5,10), (4,40), (6,30), (3, 50)], 假设你有一辆最大承重为9的小推车，请问使用这个小推车装大理石的最大价值为多少\n",
    "\n",
    "请设计一个算法解决该问题，分析算法设计思路，计算时间复杂度，并基于python编程实现"
   ]
  },
  {
   "cell_type": "markdown",
   "metadata": {},
   "source": [
    "idea：\n",
    "\n",
    "***算法思路：*** *从题目的提示和问题本身可以看出问题属于01背包问题，每个大理石只能被选择一次且选中的所有大理石重量之和不超过小推车最大承重。使用动态规划方法建立$(n+1) \\times (W+1)$的表格dp（其中n为大理石数量，W为小推车最大承载量），dp[i][j]表示将第i个大理石纳入考虑，且小推车容量为j时的最大价值。当i=0或j=0时，看作不考虑任何大理石或小推车承载量为0的情况，此时的最大价值为不选择任何大理石，即最大价值为0。当i、j不为0时，对于每一块新考虑的大理石且其容量满足当前考虑容量j时，都有两种选择，将该大理石不放入背包，则等价于不考虑这个大理石，对应的dp[i][j]=dp[i-1][j]；若将该大理石放入背包，，则对应dp[i][j]=dp[i-1][j-w]+v（其中w、v是当前所考虑的石头的重量及价值），对于以上情况求取两者的最大值为dp[i][j]的值。最后得到的dp表格的右下角，为考虑所有石头且小推车承载量最大时的最大价值。*\n",
    "\n",
    "***时间复杂度分析：*** *由于整个过程是在维护dp表格，且是按照对每一行每一列的格子进行遍历并赋值，则总的计算次数为$n \\time W$。*"
   ]
  },
  {
   "cell_type": "code",
   "execution_count": 17,
   "metadata": {},
   "outputs": [
    {
     "name": "stdout",
     "output_type": "stream",
     "text": [
      "最大价值为: 90\n"
     ]
    }
   ],
   "source": [
    "# add your code here\n",
    "def getMaxStoneValue(stones, cap):\n",
    "    \"\"\"01背包问题求解小推车价值问题\"\"\"\n",
    "    dp = [[0 for _ in range(cap + 1)] for _ in range(len(stones) + 1)]\n",
    "    for i in range(1, len(stones) + 1):\n",
    "        stone = stones[i - 1]\n",
    "        for j in range(1, cap + 1):\n",
    "            if stone[0] <= j:\n",
    "                dp[i][j] = max(dp[i - 1][j], dp[i - 1][j - stone[0]] + stone[1])\n",
    "    return dp[-1][-1]\n",
    "\n",
    "\n",
    "if __name__ == '__main__':\n",
    "    S = [(5, 10), (4, 40), (6, 30), (3, 50)]\n",
    "    C = 9\n",
    "    print(f'最大价值为: {getMaxStoneValue(S, C)}')\n",
    "\n",
    "# your algorithm time complexity is:$ O(nW) $"
   ]
  },
  {
   "cell_type": "markdown",
   "metadata": {},
   "source": [
    "## 问题 6 \n",
    "给定 `n` 个非负整数表示每个宽度为 `1` 的柱子的高度图，计算按此排列的柱子，下雨之后能接多少雨水。\n",
    "\n",
    "\n",
    "\n",
    "<div style=\"text-align:center;width:800px;\"> <img alt=\"\" src=\"./fig/hw3q6.png\"> </div>\n",
    "\n",
    "请分析算法设计思路，计算时间复杂度，并基于python编程实现"
   ]
  },
  {
   "cell_type": "markdown",
   "metadata": {},
   "source": [
    "idea：\n",
    "\n",
    "***算法思路：*** *由图示所展示的，可以以横轴为长方形的长，最高的柱子的高为宽的视角得到一个长方形。之后分别从左往右和从右往左的方向对每一行模拟光线照射，将没有被遮挡的格子除开，将长方形中柱子所在的位置除开，这个长方形剩下的位置就是能够存水的格子，最后统计一下能够存水的格子的数量即得到了存水量。如下图所示，图中黑色部分为柱子所占位置，黄色部分为由光所占位置：*\n",
    "\n",
    "![H3-P6.png](./FIG/H3-P6.png)\n",
    "\n",
    "***时间复杂度分析：*** *假设最高的柱子的高度为M，以下代码中，初始化dp的时间复杂度为$O(n \\times M)$，即创建了一个$O(n \\times M)$表格并赋值。根据柱子存在位置填充表格的时间复杂度为$O(n \\times M)$。分别从左往右和从右往左打光的时间复杂度为$O(n \\times M)$，相加得到复杂度为$O(3 \\times n \\times M)$，忽略倍数，得到最终的时间复杂度为$O(n \\times M)$。*"
   ]
  },
  {
   "cell_type": "code",
   "execution_count": 18,
   "metadata": {},
   "outputs": [
    {
     "name": "stdout",
     "output_type": "stream",
     "text": [
      "6\n",
      "9\n"
     ]
    }
   ],
   "source": [
    "# add your code here\n",
    "def getMaxWater(height):\n",
    "    \"\"\"求解以height数组为高度的柱子能容纳的水\"\"\"\n",
    "    if height is None or len(height) < 3:\n",
    "        # 不满足存水的最低条件\n",
    "        return 0\n",
    "\n",
    "    all_1_sum = 0 # 用来统计格子中有多少个1\n",
    "    dp = [[0 for _ in range(len(height))] for _ in range(max(height))] # 初始化表格\n",
    "    \n",
    "    for i in range(max(height)):\n",
    "        for j in range(len(height)):\n",
    "            # 为每个格子填入值，这个位置有柱子则为1\n",
    "            if height[j] > i:\n",
    "                dp[i][j] = 1\n",
    "                all_1_sum += 1\n",
    "                \n",
    "    for i in range(max(height)):\n",
    "        # 遍历表格，从下网上，（0，0）在左下角\n",
    "        lightToRightObs = False # 模拟光照，对当前行，光从左往右打，是否已经被某个柱子遮蔽\n",
    "        lightToLeftObs = False # 模拟光照，对当前行，光从右往左打，是否已经被某个柱子遮蔽\n",
    "        for j in range(len(height)):\n",
    "            # 模拟向右的光\n",
    "            if dp[i][j] == 1:\n",
    "                # 此位置有柱子，这一行后面的位置能被遮挡\n",
    "                lightToRightObs = True\n",
    "            else:\n",
    "                if not lightToRightObs:\n",
    "                    # 没有被遮挡，当前格子有光\n",
    "                    dp[i][j] = 1\n",
    "                    all_1_sum += 1\n",
    "        for j in range(len(height) - 1, -1, -1):\n",
    "            # 模拟向左的光\n",
    "            if dp[i][j] == 1:\n",
    "                # 此位置有柱子，这一行前面的位置能被遮挡\n",
    "                lightToLeftObs = True\n",
    "            else:\n",
    "                if not lightToLeftObs:\n",
    "                    # 没有被遮挡，当前格子有光\n",
    "                    dp[i][j] = 1\n",
    "                    all_1_sum += 1\n",
    "    # 计算总面积\n",
    "    allArea = len(height) * max(height)\n",
    "    return allArea - all_1_sum\n",
    "    \n",
    "\n",
    "if __name__ == '__main__':\n",
    "    H = [0, 1, 0, 2, 1, 0, 1, 3, 2, 1, 2, 1]\n",
    "    print(getMaxWater(H))\n",
    "    H = [4, 2, 0, 3, 2, 5]\n",
    "    print(getMaxWater(H))\n",
    "\n",
    "# your algorithm time complexity is:$ O(nM) $"
   ]
  },
  {
   "cell_type": "markdown",
   "metadata": {},
   "source": [
    "## 问题 7 \n",
    "\n",
    "**股票投资组合优化**： 假设你是一位投资者，想要在不同的股票中分配你的资金，以最大化你的投资回报。每只股票都有不同的预期收益率和风险。你的目标是选择一些股票，使得总投资金额不超过你的预算，并且预期收益最大化。\n",
    "\n",
    "在这个情况下，你可以将每只股票视为一个“物品”，其重量为投资金额，价值为预期收益率。然后，你可以使用分级背包问题的方法来选择部分股票，以便在预算内获得最大的预期收益。\n",
    "\n",
    "以下是一个简化的例子：\n",
    "\n",
    "假设你有以下三只股票可供选择：\n",
    "\n",
    "1. 股票 A：投资金额 5000 美元，预期收益率 10%\n",
    "2. 股票 B：投资金额 3000 美元，预期收益率 8%\n",
    "3. 股票 C：投资金额 2000 美元，预期收益率 12%\n",
    "\n",
    "请设计算法找到最优投资方案，分析算法设计思路，计算时间复杂度，并基于python编程实现"
   ]
  },
  {
   "cell_type": "markdown",
   "metadata": {},
   "source": [
    "idea：\n",
    "\n",
    "***算法思路：*** *问题中如果给出总的预算，则问题是一个典型的分数背包问题。由题意假设总预算为8000。对于每一支股票$i$，假设股票$i$的投资金额为$w_i$，预期收益为$v_i$，即$v_i=w_i \\times r_i$，$r_i$表示收益率，投资总预算为$W$，问题需要最大化总收益:$max \\sum_{i=1}^{n}x_i \\cdot v_i$，约束条件为$\\sum_{i=1}^{n}x_i \\cdot w_i \\le W$，$0 \\le x_i \\le 1$，$x_i$为二进制变量表示是否选择股票$i$。*\n",
    "\n",
    "*采用贪心算法，每次选择单位投资收益最高的股票，直到花光所有预算。首先计算每一支股票的收益，并按单位收益从高到低排序，之后从高到低的先择股票，如果资金足够则购买，否则买部分，直到预算用完。*\n",
    "\n",
    "***时间复杂度分析：*** *代码实现中，计算单位收益的时间复杂度为$O(n)$，排序股票列表的时间复杂度为$O(n \\log n)$，遍历股票进行投资的时间复杂度为$O(n)$，因此总的时间复杂度为$O(n \\log n)$。*\n",
    "\n",
    "*(assist by GPT.)*"
   ]
  },
  {
   "cell_type": "code",
   "execution_count": 19,
   "metadata": {},
   "outputs": [
    {
     "name": "stdout",
     "output_type": "stream",
     "text": [
      "最大预期收益：$900.00\n",
      "投资方案：\n",
      "股票 C: 投资 $2000.00, 收益 $240.00, 比例 100.0%\n",
      "股票 A: 投资 $5000.00, 收益 $500.00, 比例 100.0%\n",
      "股票 B: 投资 $2000.00, 收益 $160.00, 比例 66.7%\n"
     ]
    }
   ],
   "source": [
    "# add your code here\n",
    "# assist by GPT.\n",
    "def get_rate(stock):\n",
    "    return stock['rate']\n",
    "\n",
    "\n",
    "def fractional_knapsack(stocks, budget):\n",
    "    # 使用自定义函数 get_rate 进行排序（按单位收益率从高到低）\n",
    "    stocks.sort(key=get_rate, reverse=True)\n",
    "\n",
    "    total_value = 0\n",
    "    investment_plan = []\n",
    "\n",
    "    for stock in stocks:\n",
    "        if budget == 0:\n",
    "            break\n",
    "\n",
    "        invest_amount = min(stock['cost'], budget)\n",
    "        invest_fraction = invest_amount / stock['cost']\n",
    "        expected_return = invest_fraction * stock['cost'] * stock['rate']\n",
    "\n",
    "        investment_plan.append({\n",
    "            'stock': stock['name'],\n",
    "            'invested': invest_amount,\n",
    "            'expected_return': expected_return,\n",
    "            'fraction': invest_fraction\n",
    "        })\n",
    "\n",
    "        total_value += expected_return\n",
    "        budget -= invest_amount\n",
    "\n",
    "    return total_value, investment_plan\n",
    "\n",
    "\n",
    "if __name__ == '__main__':\n",
    "\n",
    "    stocks = [\n",
    "        {'name': 'A', 'cost': 5000, 'rate': 0.10},\n",
    "        {'name': 'B', 'cost': 3000, 'rate': 0.08},\n",
    "        {'name': 'C', 'cost': 2000, 'rate': 0.12}\n",
    "    ]\n",
    "\n",
    "    budget = 9000  # 总预算\n",
    "\n",
    "    # 调用函数\n",
    "    max_return, plan = fractional_knapsack(stocks, budget)\n",
    "\n",
    "    # 输出结果\n",
    "    print(f\"最大预期收益：${max_return:.2f}\")\n",
    "    print(\"投资方案：\")\n",
    "    for p in plan:\n",
    "        print(\n",
    "            f\"股票 {p['stock']}: 投资 ${p['invested']:.2f}, 收益 ${p['expected_return']:.2f}, 比例 {p['fraction'] * 100:.1f}%\")\n",
    "\n",
    "# your algorithm time complexity is:$ O(n \\log n) $"
   ]
  },
  {
   "cell_type": "markdown",
   "metadata": {},
   "source": [
    "## 问题 8\n",
    "\n",
    "给你二叉搜索树的根节点 root ，该树中的恰好两个节点的值被错误地交换。请在不改变其结构的情况下，恢复这棵树 。设计算法解决该问题，分析算法设计思路，计算时间复杂度，并基于python编程实现\n",
    "\n",
    "e.g.:\n",
    "---\n",
    "1.\n",
    "\n",
    "<div style=\"text-align:center;width:200px;\"> <img alt=\"\" src=\"./fig/hw3q9-1.jpg\"> </div>\n",
    "输入：root = [1,3,null,null,2]， 输出为：[3,1,null,null,2]， \n",
    "\n",
    "解释：3 不能是 1 的左孩子，因为 3 > 1 。交换 1 和 3 使二叉搜索树有效。\n",
    "\n",
    "2.\n",
    "\n",
    " <div style=\"text-align:center;width:200px;\"> <img alt=\"\" src=\"./fig/hw3q9-1.jpg\"> </div>\n",
    "输入： root=[3,1,4,null,null,2]， 输出为：[2,1,4,null,null,3]\n",
    "\n",
    "解释：2 不能在 3 的右子树中，因为 2 < 3 。交换 2 和 3 使二叉搜索树有效。"
   ]
  },
  {
   "cell_type": "markdown",
   "metadata": {},
   "source": [
    "idea：\n",
    "\n",
    "***算法思路：*** *由于二叉搜索树中序遍历结果的递增性质可知，如果在中序遍历中出现了前一个节点的值大于后一个节点的值，说明这两个节点就是被错误交换的节点之一。英雌可以再中序遍历整个二叉搜索树时，记录当前节点及其前一个节点，当发现第一个顺序错误时和发现第二个错误时，将其记录下来。而题目中明确提到了只有两个节点被错误的交换，则说明其他节点的位置都是正确的，只需要找到和两个节点的位置并将这两个值做交换即可。最终交换两个错误的节点的值，从而不改变二叉搜索树的结构同时恢复其二叉搜索树的性质。*\n",
    "\n",
    "***时间复杂度分析：*** *由于在题目中的部分，给定root节点，并不需要再次创建二叉搜索树，则只需要通过一次中序遍历找到两个位置出错的节点并将其值交换，因此整个时间复杂度于一次中序遍历的时间复杂度一致，为$O(n)$，其中$n$为节点数量。*\n"
   ]
  },
  {
   "cell_type": "code",
   "execution_count": 20,
   "metadata": {},
   "outputs": [
    {
     "name": "stdout",
     "output_type": "stream",
     "text": [
      "恢复前中序遍历：[3, 2, 1]\n",
      "恢复后中序遍历：[1, 2, 3]\n",
      "==============================\n",
      "恢复前中序遍历：[1, 3, 2, 4]\n",
      "恢复后中序遍历：[1, 2, 3, 4]\n"
     ]
    }
   ],
   "source": [
    "# add your code here\n",
    "class TreeNode:\n",
    "    \"\"\"树的节点类定义\"\"\"\n",
    "\n",
    "    def __init__(self, val=0, left=None, right=None):\n",
    "        self.val = val\n",
    "        self.left = left\n",
    "        self.right = right\n",
    "\n",
    "\n",
    "def InorderToList(node, result):\n",
    "    \"\"\"中序遍历二叉搜索树，将遍历\"\"\"\n",
    "    if node:\n",
    "        InorderToList(node.left, result)\n",
    "        result.append(node.val)\n",
    "        InorderToList(node.right, result)\n",
    "\n",
    "\n",
    "class Solution:\n",
    "    \"\"\"解决方法\"\"\"\n",
    "\n",
    "    def __init__(self):\n",
    "        self.pre = None  # 中序遍历的前一节点\n",
    "        self.firstError = None  # 第一个错误节点\n",
    "        self.secondError = None  # 第二个错误节点\n",
    "\n",
    "    def inorder(self, node):\n",
    "        \"\"\"中序遍历找到位置错乱的节点\"\"\"\n",
    "        if not node:\n",
    "            return\n",
    "        self.inorder(node.left)\n",
    "\n",
    "        if self.pre and self.pre.val > node.val:\n",
    "            if not self.firstError:\n",
    "                # 找到第一个错误节点\n",
    "                self.firstError = self.pre\n",
    "                self.secondError = node\n",
    "            else:\n",
    "                # 找到第二个错误节点\n",
    "                self.secondError = node\n",
    "        self.pre = node\n",
    "\n",
    "        self.inorder(node.right)\n",
    "\n",
    "    def recoverTree(self, root):\n",
    "        \"\"\"恢复二叉搜索树函数\"\"\"\n",
    "        self.inorder(root)\n",
    "        self.firstError.val, self.secondError.val = self.secondError.val, self.firstError.val\n",
    "\n",
    "\n",
    "if __name__ == '__main__':\n",
    "    # 样例1\n",
    "    root = TreeNode(1)\n",
    "    root.left = TreeNode(3)\n",
    "    root.left.right = TreeNode(2)\n",
    "    result = []\n",
    "    InorderToList(root, result)\n",
    "    print(f'恢复前中序遍历：{result}')\n",
    "\n",
    "    # 对二叉树进行恢复\n",
    "    Solution().recoverTree(root)\n",
    "    result = []\n",
    "    InorderToList(root, result)\n",
    "    print(f'恢复后中序遍历：{result}')\n",
    "    print('=' * 30)\n",
    "    # 样例2\n",
    "    del root\n",
    "    root = TreeNode(3)\n",
    "    root.left = TreeNode(1)\n",
    "    root.right = TreeNode(4)\n",
    "    root.right.left = TreeNode(2)\n",
    "    result = []\n",
    "    InorderToList(root, result)\n",
    "    print(f'恢复前中序遍历：{result}')\n",
    "    Solution().recoverTree(root)\n",
    "    result = []\n",
    "    InorderToList(root, result)\n",
    "    print(f'恢复后中序遍历：{result}')\n",
    "# your algorithm time complexity is:$ O(n) $"
   ]
  },
  {
   "cell_type": "markdown",
   "metadata": {},
   "source": [
    "## 问题 9  \n",
    "\n",
    "给你一个二叉树的根节点 root ，树中每个节点都存放有一个 0 到 9 之间的数字。每条从根节点到叶节点的路径都代表一个数字：\n",
    "\n",
    "> 例如，从根节点到叶节点的路径 1 -> 2 -> 3 表示数字 123 。\n",
    "\n",
    "设计一个算法计算从根节点到叶节点生成的所有数字之和 ，分析算法设计思路，计算时间复杂度，并基于python编程实现\n",
    "\n",
    "叶节点:是指没有子节点的节点。\n",
    "\n",
    "e.g.:\n",
    "---\n",
    "1.\n",
    "\n",
    " <div style=\"text-align:center;width:200px;\"> <img alt=\"figure\" src=\"./fig/hw3q10-1.jpg\"> </div>\n",
    "\n",
    " 输入：root = [1,2,3], 输出：25\n",
    "\n",
    "解释：从根到叶子节点路径 1->2 代表数字 12，1->3 代表数字 13，因此和为 12 + 13 = 25 。\n",
    "\n",
    "2.\n",
    "\n",
    " <div style=\"text-align:center;width:200px;\"> <img alt=\"figure\" src=\"./fig/hw3q10-2.jpg\"> </div>\n",
    "\n",
    " 输入：root = [4,9,0,5,1], 输出：1026\n",
    "\n",
    "解释：从根到叶子节点路径 4->9->5 代表数字 495，4->9->1 代表数字 491，4->0 代表数字 40。因此和为 495 + 491 + 40 = 1026 。"
   ]
  },
  {
   "cell_type": "markdown",
   "metadata": {},
   "source": [
    "idea：\n",
    "\n",
    "***算法思路：*** *分析题意可知，对于某一节点i，以这个节点为结束的路径的数值，可以表示为以其父节点为结束点的路径的数值乘以10在加上节点i的值，这对任意节点均成立（根节点可额外认为以其父节点为结束点的路径的数值为0）且与这个节点时左节点还是右节点无关，那么由此可以得出其递归的实现，如果当前节点为空，则直接返回0，不再构成路径；如果当前节点不为空，则以当前节点为结束点的路径的数值为以其父节点为结束点的路径的数值乘以10加上当前节点值，进一步向当前的节点的左右子节点传递。以上一直向下的过程于深度优先搜索算法比较类似。以样例1的根节点开始，以根节点为结束的路径的数值为1，传递给其左子节点，以这个左子节点为结束点的数值为$1 \\times 10 + 2=12$，继续向下，左右子节点均为空，则均返回0；对于根节点的右子节点，以这个右子节点为结束点的数值为$1 \\times 10 + 3=13$，其左右子节点均为空，返回0，将这两个左右子节点的值相加得到答案。*\n",
    "\n",
    "***时间复杂度分析：*** *由于整个过程于深度优先搜索算法非常类似，主要的工作是在遍历每一个节点，计算一次以当前节点为结束点的路径的值，相当于对每个节点遍历了一次，假设总的节点数量为$n$，则总的时间复杂度为$O(n)$。*"
   ]
  },
  {
   "cell_type": "code",
   "execution_count": 21,
   "metadata": {},
   "outputs": [
    {
     "name": "stdout",
     "output_type": "stream",
     "text": [
      "25\n",
      "1026\n"
     ]
    }
   ],
   "source": [
    "# add your code here\n",
    "class TreeNode:\n",
    "    \"\"\"树的节点类定义\"\"\"\n",
    "\n",
    "    def __init__(self, val=0, left=None, right=None):\n",
    "        self.val = val\n",
    "        self.left = left\n",
    "        self.right = right\n",
    "\n",
    "\n",
    "def getTreeSum(node, result=0):\n",
    "    \"\"\"从根节点到叶节点路径生成数字之和\"\"\"\n",
    "    if node is None:\n",
    "        # 为空节点，直接为0\n",
    "        return 0\n",
    "    result = result * 10 + node.val\n",
    "    if node.left or node.right:\n",
    "        # 分别朝左右节点走\n",
    "        return getTreeSum(node.left, result) + getTreeSum(node.right, result)\n",
    "    else:\n",
    "        # 为叶子节点，直接返回结果\n",
    "        return result\n",
    "\n",
    "\n",
    "if __name__ == '__main__':\n",
    "    # 样例1\n",
    "    root = TreeNode(1)\n",
    "    root.left = TreeNode(2)\n",
    "    root.right = TreeNode(3)\n",
    "    print(getTreeSum(root))\n",
    "    del root\n",
    "    # 样例2\n",
    "    root = TreeNode(4)\n",
    "    root.left = TreeNode(9)\n",
    "    root.right = TreeNode(0)\n",
    "    root.left.left = TreeNode(5)\n",
    "    root.left.right = TreeNode(1)\n",
    "    print(getTreeSum(root))\n",
    "\n",
    "# your algorithm time complexity is:$ O(n) $"
   ]
  },
  {
   "cell_type": "markdown",
   "metadata": {},
   "source": [
    "## 问题 10  \n",
    "\n",
    "给你一个二叉树的根节点 root ， 检查它是否轴对称。\n",
    "\n",
    "1. 分析算法设计思路，计算时间复杂度，并基于python编程实现\n",
    "2. \\* 设计使用递归和迭代两种方法解决这个问题，计算时间复杂度，并基于python编程实现\n",
    "\n",
    "e.g.:\n",
    "---\n",
    "1.\n",
    "\n",
    " <div style=\"text-align:center;width:200px;\"> <img alt=\"figure\" src=\"./fig/hw3q11-1.png\"> </div>\n",
    "\n",
    " 输入：root = [1,2,2,3,4,4,3]， 输出：true\n",
    "\n",
    "解释：二叉树 [1,2,2,3,4,4,3] 对称。\n",
    "\n",
    "2.\n",
    "\n",
    " <div style=\"text-align:center;width:200px;\"> <img alt=\"figure\" src=\"./fig/hw3q11-2.png\"> </div>\n",
    "\n",
    " 输入：root = [1,2,2,null,3,null,3]， 输出：false"
   ]
  },
  {
   "cell_type": "markdown",
   "metadata": {},
   "source": [
    "idea\n",
    "\n",
    "***算法思路：*** *通过观察对称二叉树的图形，结合中序遍历结果可以发现，如果二叉树是轴对称的，那么其中序遍历结果也是对称的，并且轴对称的二叉树，其中节点的数量要么为0，要么只能是奇数个，原因是：如果一个二叉树有2n个节点，除开根节点外剩下2n-1个节点，而奇数个节点不能均匀分配到根节点左右子树，从结构上已经不满足轴对称了，因此数量只能是奇数个。对于二叉树的中序遍历结果，使用双指针方法能够很容易的判断出其是否对称。*\n",
    "\n",
    "***时间复杂度分析：*** *整个过程主要涉及两部分，一是得到二叉树的中序遍历结果，其主要过程是递归的访问每个节点一次，所以时间复杂度为$O(n)$，其中$n$为节点数量；二是使用双指针判断中序遍历结果是否对称，也是两个指针共同访问了除中间节点的每个节点，其时间复杂度为$O(n-1)$。因此中的时间复杂度为$O(n)$。*"
   ]
  },
  {
   "cell_type": "code",
   "execution_count": 26,
   "metadata": {},
   "outputs": [
    {
     "name": "stdout",
     "output_type": "stream",
     "text": [
      "True\n",
      "False\n"
     ]
    }
   ],
   "source": [
    "# add your code here\n",
    "class TreeNode:\n",
    "    \"\"\"树的节点类定义\"\"\"\n",
    "\n",
    "    def __init__(self, val=0, left=None, right=None):\n",
    "        self.val = val\n",
    "        self.left = left\n",
    "        self.right = right\n",
    "\n",
    "\n",
    "def InorderToList(node, result):\n",
    "    \"\"\"中序遍历二叉搜索树，将遍历结果装入列表返回\"\"\"\n",
    "    if node:\n",
    "        InorderToList(node.left, result)\n",
    "        result.append(node.val)\n",
    "        InorderToList(node.right, result)\n",
    "\n",
    "\n",
    "def judgeTreeSymmetry(root):\n",
    "    \"\"\"判断以node为根节点的子树是否对称\"\"\"\n",
    "    # 先拿到中序排列结果，也能同时得到节点总数\n",
    "    result = []\n",
    "    InorderToList(root, result)\n",
    "\n",
    "    if len(result) == 0:\n",
    "        # 没有任何节点，认为其对称\n",
    "        return True\n",
    "    if len(result) % 2 == 0:\n",
    "        # 如果节点数量为偶数，则一定不可能对称\n",
    "        return False\n",
    "    # 使用双指针法则判断是否对称\n",
    "    i, j = 0, len(result) - 1\n",
    "    while i < j:\n",
    "        if result[i] != result[j]:\n",
    "            return False\n",
    "        i += 1\n",
    "        j -= 1\n",
    "\n",
    "    return True\n",
    "\n",
    "\n",
    "if __name__ == '__main__':\n",
    "    # 样例1\n",
    "    root = TreeNode(1)\n",
    "    root.left = TreeNode(2)\n",
    "    root.right = TreeNode(2)\n",
    "    root.left.left = TreeNode(3)\n",
    "    root.left.right = TreeNode(4)\n",
    "    root.right.left = TreeNode(4)\n",
    "    root.right.right = TreeNode(3)\n",
    "    print(judgeTreeSymmetry(root))\n",
    "    del root\n",
    "    # 样例2\n",
    "    root = TreeNode(1)\n",
    "    root.left = TreeNode(2)\n",
    "    root.right = TreeNode(2)\n",
    "    root.left.right = TreeNode(3)\n",
    "    root.right.right = TreeNode(3)\n",
    "    print(judgeTreeSymmetry(root))\n",
    "\n",
    "# your algorithm time complexity is: $ O(n) $"
   ]
  },
  {
   "cell_type": "markdown",
   "metadata": {},
   "source": [
    "## 问题 11  \n",
    "\n",
    "给你一个由 '1'（陆地）和 '0'（水）组成的的二维网格，请你计算网格中岛屿的数量。岛屿总是被水包围，并且每座岛屿只能由水平方向和/或竖直方向上相邻的陆地连接形成。\n",
    "\n",
    "此外，你可以假设该网格的四条边均被水包围。\n",
    "\n",
    "分析算法设计思路，计算时间复杂度，并基于python编程实现\n",
    "\n",
    "e.g.:\n",
    "---\n",
    "1.\n",
    "输入：grid = [\n",
    "\n",
    "    [\"1\",\"1\",\"1\",\"1\",\"0\"],\n",
    "\n",
    "    [\"1\",\"1\",\"0\",\"1\",\"0\"], \n",
    "\n",
    "    [\"1\",\"1\",\"0\",\"0\",\"0\"], \n",
    "\n",
    "    [\"0\",\"0\",\"0\",\"0\",\"0\"]  \n",
    "\n",
    "]\n",
    "\n",
    "输出：1\n",
    "\n",
    "2.\n",
    "输入：grid = [\n",
    "\n",
    "    [\"1\",\"1\",\"0\",\"0\",\"0\"],\n",
    "\n",
    "    [\"1\",\"1\",\"0\",\"0\",\"0\"],\n",
    "\n",
    "    [\"0\",\"0\",\"1\",\"0\",\"0\"],\n",
    "\n",
    "    [\"0\",\"0\",\"0\",\"1\",\"1\"]\n",
    "\n",
    "]\n",
    "\n",
    "输出：3"
   ]
  },
  {
   "cell_type": "markdown",
   "metadata": {},
   "source": [
    "idea:\n",
    "\n",
    "***算法思路：*** *由于在网格中，属于同一岛屿的陆地必然是上下左右相关联的，因此考虑从网格的左上角向右下角，从左往右，从上往下的挨个遍历。如果当前网格为水，则不处理；如果为陆地，岛屿数量加一，则以当前网格为起点，采用DFS深度优先搜索算法递归的向其上下左右扩散，遇到水则中止递归，将遇到的所有陆地网格的值设置为0，表示已经纳入考虑了，后面不能再次被计算入岛屿。遍历完成每个网格后，整个网格元素全部被设置为0。此时就得到了岛屿的数量。*\n",
    "\n",
    "***时间复杂度分析：*** *由于整个过程是在实现对m行n列构成的网格每个格子的遍历，而在DFS递归中，如果格子为水则中止，那么最多对每个格子遍历1次，因此总的时间复杂度为$O(m \\times n)$。*"
   ]
  },
  {
   "cell_type": "code",
   "execution_count": 4,
   "metadata": {},
   "outputs": [
    {
     "name": "stdout",
     "output_type": "stream",
     "text": [
      "1\n",
      "3\n"
     ]
    }
   ],
   "source": [
    "# add your code here\n",
    "def getIslandCount(grid):\n",
    "    \"\"\"统计区域内的岛屿数量\"\"\"\n",
    "    if not grid or not grid[0]:\n",
    "        return 0\n",
    "    m, n = len(grid), len(grid[0])  # 网格高度和宽度\n",
    "    count = 0  # 总岛屿数量\n",
    "    for i in range(m):\n",
    "        for j in range(n):\n",
    "            if grid[i][j] == 1:\n",
    "                # 为陆地，则从当前陆地出发深度查找与之连接的所有陆地\n",
    "                count += 1\n",
    "                DFS(grid, i, j)\n",
    "    # print(grid)\n",
    "    return count\n",
    "\n",
    "\n",
    "def DFS(grid, i, j):\n",
    "    \"\"\"在网格中以ij位置为起点的深度优先搜索，将所有与当前陆地连接的陆地设置为已经被访问\"\"\"\n",
    "    m, n = len(grid), len(grid[0])  # 网格高度和宽度\n",
    "    if i < 0 or i >= m or j < 0 or j >= n or grid[i][j] != 1:\n",
    "        return\n",
    "    grid[i][j] = 0  # 遍历过就不再保留\n",
    "    DFS(grid, i - 1, j)  # 上\n",
    "    DFS(grid, i + 1, j)  # 下\n",
    "    DFS(grid, i, j - 1)  # 左\n",
    "    DFS(grid, i, j + 1)  # 右\n",
    "\n",
    "\n",
    "if __name__ == '__main__':\n",
    "    # 样例1\n",
    "    G = [\n",
    "        [1, 1, 1, 1, 0],\n",
    "        [1, 1, 0, 1, 0],\n",
    "        [1, 1, 0, 0, 0],\n",
    "        [0, 0, 0, 0, 0]\n",
    "    ]\n",
    "    print(getIslandCount(G))\n",
    "    # 样例2\n",
    "    G = [\n",
    "        [1, 1, 0, 0, 0],\n",
    "        [1, 1, 0, 0, 0],\n",
    "        [0, 0, 1, 0, 0],\n",
    "        [0, 0, 0, 1, 1]\n",
    "    ]\n",
    "    print(getIslandCount(G))\n",
    "\n",
    "# your algorithm time complexity is: $ O(mn) $"
   ]
  },
  {
   "cell_type": "code",
   "execution_count": null,
   "metadata": {},
   "outputs": [],
   "source": []
  }
 ],
 "metadata": {
  "kernelspec": {
   "display_name": "Python 3 (ipykernel)",
   "language": "python",
   "name": "python3"
  },
  "language_info": {
   "codemirror_mode": {
    "name": "ipython",
    "version": 3
   },
   "file_extension": ".py",
   "mimetype": "text/x-python",
   "name": "python",
   "nbconvert_exporter": "python",
   "pygments_lexer": "ipython3",
   "version": "3.12.3"
  }
 },
 "nbformat": 4,
 "nbformat_minor": 4
}
